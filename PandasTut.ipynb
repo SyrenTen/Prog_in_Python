{
 "cells": [
  {
   "cell_type": "code",
   "execution_count": 1,
   "id": "d35025d0-b963-49d6-b2b2-62487befc108",
   "metadata": {},
   "outputs": [
    {
     "name": "stdout",
     "output_type": "stream",
     "text": [
      "Requirement already satisfied: pandas in c:\\users\\vital\\appdata\\local\\programs\\python\\python310\\lib\\site-packages (2.2.3)\n",
      "Requirement already satisfied: numpy>=1.22.4 in c:\\users\\vital\\appdata\\local\\programs\\python\\python310\\lib\\site-packages (from pandas) (2.2.4)\n",
      "Requirement already satisfied: python-dateutil>=2.8.2 in c:\\users\\vital\\appdata\\local\\programs\\python\\python310\\lib\\site-packages (from pandas) (2.9.0.post0)\n",
      "Requirement already satisfied: pytz>=2020.1 in c:\\users\\vital\\appdata\\local\\programs\\python\\python310\\lib\\site-packages (from pandas) (2025.1)\n",
      "Requirement already satisfied: tzdata>=2022.7 in c:\\users\\vital\\appdata\\local\\programs\\python\\python310\\lib\\site-packages (from pandas) (2025.1)\n",
      "Requirement already satisfied: six>=1.5 in c:\\users\\vital\\appdata\\local\\programs\\python\\python310\\lib\\site-packages (from python-dateutil>=2.8.2->pandas) (1.17.0)\n"
     ]
    },
    {
     "name": "stderr",
     "output_type": "stream",
     "text": [
      "\n",
      "[notice] A new release of pip available: 22.2.1 -> 25.0.1\n",
      "[notice] To update, run: python.exe -m pip install --upgrade pip\n"
     ]
    },
    {
     "name": "stdout",
     "output_type": "stream",
     "text": [
      "Requirement already satisfied: matplotlib in c:\\users\\vital\\appdata\\local\\programs\\python\\python310\\lib\\site-packages (3.10.1)\n",
      "Requirement already satisfied: kiwisolver>=1.3.1 in c:\\users\\vital\\appdata\\local\\programs\\python\\python310\\lib\\site-packages (from matplotlib) (1.4.8)\n",
      "Requirement already satisfied: fonttools>=4.22.0 in c:\\users\\vital\\appdata\\local\\programs\\python\\python310\\lib\\site-packages (from matplotlib) (4.56.0)\n",
      "Requirement already satisfied: pyparsing>=2.3.1 in c:\\users\\vital\\appdata\\local\\programs\\python\\python310\\lib\\site-packages (from matplotlib) (3.2.1)\n",
      "Requirement already satisfied: packaging>=20.0 in c:\\users\\vital\\appdata\\local\\programs\\python\\python310\\lib\\site-packages (from matplotlib) (24.2)\n",
      "Requirement already satisfied: contourpy>=1.0.1 in c:\\users\\vital\\appdata\\local\\programs\\python\\python310\\lib\\site-packages (from matplotlib) (1.3.1)\n",
      "Requirement already satisfied: numpy>=1.23 in c:\\users\\vital\\appdata\\local\\programs\\python\\python310\\lib\\site-packages (from matplotlib) (2.2.4)\n",
      "Requirement already satisfied: pillow>=8 in c:\\users\\vital\\appdata\\local\\programs\\python\\python310\\lib\\site-packages (from matplotlib) (11.1.0)\n",
      "Requirement already satisfied: cycler>=0.10 in c:\\users\\vital\\appdata\\local\\programs\\python\\python310\\lib\\site-packages (from matplotlib) (0.12.1)\n",
      "Requirement already satisfied: python-dateutil>=2.7 in c:\\users\\vital\\appdata\\local\\programs\\python\\python310\\lib\\site-packages (from matplotlib) (2.9.0.post0)\n",
      "Requirement already satisfied: six>=1.5 in c:\\users\\vital\\appdata\\local\\programs\\python\\python310\\lib\\site-packages (from python-dateutil>=2.7->matplotlib) (1.17.0)\n"
     ]
    },
    {
     "name": "stderr",
     "output_type": "stream",
     "text": [
      "\n",
      "[notice] A new release of pip available: 22.2.1 -> 25.0.1\n",
      "[notice] To update, run: python.exe -m pip install --upgrade pip\n"
     ]
    },
    {
     "name": "stdout",
     "output_type": "stream",
     "text": [
      "Requirement already satisfied: ipython in c:\\users\\vital\\appdata\\local\\programs\\python\\python310\\lib\\site-packages (8.34.0)\n",
      "Requirement already satisfied: traitlets>=5.13.0 in c:\\users\\vital\\appdata\\local\\programs\\python\\python310\\lib\\site-packages (from ipython) (5.14.3)\n",
      "Requirement already satisfied: jedi>=0.16 in c:\\users\\vital\\appdata\\local\\programs\\python\\python310\\lib\\site-packages (from ipython) (0.19.2)\n",
      "Requirement already satisfied: decorator in c:\\users\\vital\\appdata\\local\\programs\\python\\python310\\lib\\site-packages (from ipython) (5.2.1)\n",
      "Requirement already satisfied: pygments>=2.4.0 in c:\\users\\vital\\appdata\\local\\programs\\python\\python310\\lib\\site-packages (from ipython) (2.19.1)\n",
      "Requirement already satisfied: stack_data in c:\\users\\vital\\appdata\\local\\programs\\python\\python310\\lib\\site-packages (from ipython) (0.6.3)\n",
      "Requirement already satisfied: exceptiongroup in c:\\users\\vital\\appdata\\local\\programs\\python\\python310\\lib\\site-packages (from ipython) (1.2.2)\n",
      "Requirement already satisfied: matplotlib-inline in c:\\users\\vital\\appdata\\local\\programs\\python\\python310\\lib\\site-packages (from ipython) (0.1.7)\n",
      "Requirement already satisfied: prompt_toolkit<3.1.0,>=3.0.41 in c:\\users\\vital\\appdata\\local\\programs\\python\\python310\\lib\\site-packages (from ipython) (3.0.50)\n",
      "Requirement already satisfied: colorama in c:\\users\\vital\\appdata\\local\\programs\\python\\python310\\lib\\site-packages (from ipython) (0.4.6)\n",
      "Requirement already satisfied: typing_extensions>=4.6 in c:\\users\\vital\\appdata\\local\\programs\\python\\python310\\lib\\site-packages (from ipython) (4.12.2)\n",
      "Requirement already satisfied: parso<0.9.0,>=0.8.4 in c:\\users\\vital\\appdata\\local\\programs\\python\\python310\\lib\\site-packages (from jedi>=0.16->ipython) (0.8.4)\n",
      "Requirement already satisfied: wcwidth in c:\\users\\vital\\appdata\\local\\programs\\python\\python310\\lib\\site-packages (from prompt_toolkit<3.1.0,>=3.0.41->ipython) (0.2.13)\n",
      "Requirement already satisfied: asttokens>=2.1.0 in c:\\users\\vital\\appdata\\local\\programs\\python\\python310\\lib\\site-packages (from stack_data->ipython) (3.0.0)\n",
      "Requirement already satisfied: pure-eval in c:\\users\\vital\\appdata\\local\\programs\\python\\python310\\lib\\site-packages (from stack_data->ipython) (0.2.3)\n",
      "Requirement already satisfied: executing>=1.2.0 in c:\\users\\vital\\appdata\\local\\programs\\python\\python310\\lib\\site-packages (from stack_data->ipython) (2.2.0)\n"
     ]
    },
    {
     "name": "stderr",
     "output_type": "stream",
     "text": [
      "\n",
      "[notice] A new release of pip available: 22.2.1 -> 25.0.1\n",
      "[notice] To update, run: python.exe -m pip install --upgrade pip\n"
     ]
    }
   ],
   "source": [
    "!pip install pandas\n",
    "!pip install matplotlib\n",
    "!pip install ipython"
   ]
  },
  {
   "cell_type": "code",
   "execution_count": 2,
   "id": "3e918d2b-e994-48c9-acef-8294b1a8f56f",
   "metadata": {},
   "outputs": [],
   "source": [
    "import matplotlib.pyplot as plt\n",
    "import pandas as pd\n",
    "import numpy as np"
   ]
  },
  {
   "cell_type": "code",
   "execution_count": 2,
   "id": "d103b978-2b28-4d8e-8df7-4631ec6839c3",
   "metadata": {},
   "outputs": [],
   "source": [
    "# PANDAS TUTORIAL\n",
    "# We will start with learning pandas"
   ]
  },
  {
   "cell_type": "code",
   "execution_count": 3,
   "id": "86401e70-f88e-4c8f-ac42-19e9fbc70f1e",
   "metadata": {},
   "outputs": [],
   "source": [
    "# Constructing DataFrame from a dictionary\n",
    "d = {'col1': [1, 2],\n",
    "     'col2': [3, 4]}\n",
    "df = pd.DataFrame(data=d)"
   ]
  },
  {
   "cell_type": "code",
   "execution_count": 4,
   "id": "3f55e736-c242-47ef-b912-073365e249ee",
   "metadata": {},
   "outputs": [
    {
     "data": {
      "text/html": [
       "<div>\n",
       "<style scoped>\n",
       "    .dataframe tbody tr th:only-of-type {\n",
       "        vertical-align: middle;\n",
       "    }\n",
       "\n",
       "    .dataframe tbody tr th {\n",
       "        vertical-align: top;\n",
       "    }\n",
       "\n",
       "    .dataframe thead th {\n",
       "        text-align: right;\n",
       "    }\n",
       "</style>\n",
       "<table border=\"1\" class=\"dataframe\">\n",
       "  <thead>\n",
       "    <tr style=\"text-align: right;\">\n",
       "      <th></th>\n",
       "      <th>col1</th>\n",
       "      <th>col2</th>\n",
       "    </tr>\n",
       "  </thead>\n",
       "  <tbody>\n",
       "    <tr>\n",
       "      <th>0</th>\n",
       "      <td>1</td>\n",
       "      <td>3</td>\n",
       "    </tr>\n",
       "    <tr>\n",
       "      <th>1</th>\n",
       "      <td>2</td>\n",
       "      <td>4</td>\n",
       "    </tr>\n",
       "  </tbody>\n",
       "</table>\n",
       "</div>"
      ],
      "text/plain": [
       "   col1  col2\n",
       "0     1     3\n",
       "1     2     4"
      ]
     },
     "execution_count": 4,
     "metadata": {},
     "output_type": "execute_result"
    }
   ],
   "source": [
    "df"
   ]
  },
  {
   "cell_type": "code",
   "execution_count": 5,
   "id": "9eaa90c3-61ee-4269-aa2d-4e26f94e7d3a",
   "metadata": {},
   "outputs": [
    {
     "data": {
      "text/plain": [
       "col1    int64\n",
       "col2    int64\n",
       "dtype: object"
      ]
     },
     "execution_count": 5,
     "metadata": {},
     "output_type": "execute_result"
    }
   ],
   "source": [
    "df.dtypes"
   ]
  },
  {
   "cell_type": "code",
   "execution_count": 6,
   "id": "f251bb0f-a876-4cd5-ad5a-35bd079e8a23",
   "metadata": {},
   "outputs": [],
   "source": [
    "# from numpy array\n",
    "df2 = pd.DataFrame(np.array([[1, 2, 3], [4, 5, 6], [7, 8, 9]]), columns=['a', 'b', 'c'])"
   ]
  },
  {
   "cell_type": "code",
   "execution_count": 7,
   "id": "8963b609-0783-4016-a733-01fa8fc4c9b0",
   "metadata": {},
   "outputs": [
    {
     "data": {
      "text/html": [
       "<div>\n",
       "<style scoped>\n",
       "    .dataframe tbody tr th:only-of-type {\n",
       "        vertical-align: middle;\n",
       "    }\n",
       "\n",
       "    .dataframe tbody tr th {\n",
       "        vertical-align: top;\n",
       "    }\n",
       "\n",
       "    .dataframe thead th {\n",
       "        text-align: right;\n",
       "    }\n",
       "</style>\n",
       "<table border=\"1\" class=\"dataframe\">\n",
       "  <thead>\n",
       "    <tr style=\"text-align: right;\">\n",
       "      <th></th>\n",
       "      <th>a</th>\n",
       "      <th>b</th>\n",
       "      <th>c</th>\n",
       "    </tr>\n",
       "  </thead>\n",
       "  <tbody>\n",
       "    <tr>\n",
       "      <th>0</th>\n",
       "      <td>1</td>\n",
       "      <td>2</td>\n",
       "      <td>3</td>\n",
       "    </tr>\n",
       "    <tr>\n",
       "      <th>1</th>\n",
       "      <td>4</td>\n",
       "      <td>5</td>\n",
       "      <td>6</td>\n",
       "    </tr>\n",
       "    <tr>\n",
       "      <th>2</th>\n",
       "      <td>7</td>\n",
       "      <td>8</td>\n",
       "      <td>9</td>\n",
       "    </tr>\n",
       "  </tbody>\n",
       "</table>\n",
       "</div>"
      ],
      "text/plain": [
       "   a  b  c\n",
       "0  1  2  3\n",
       "1  4  5  6\n",
       "2  7  8  9"
      ]
     },
     "execution_count": 7,
     "metadata": {},
     "output_type": "execute_result"
    }
   ],
   "source": [
    "df2"
   ]
  },
  {
   "cell_type": "code",
   "execution_count": 8,
   "id": "5b795ae9-ae33-4b3f-968f-6ef41f9498bf",
   "metadata": {},
   "outputs": [],
   "source": [
    "# TP: Jouer avec des données\n",
    "# Task 5: importer et charger le fichier de données sous la forme d’un dataframe pandas"
   ]
  },
  {
   "cell_type": "code",
   "execution_count": 3,
   "id": "c201f060-b6db-4b92-94af-e4ecf0fc7713",
   "metadata": {},
   "outputs": [],
   "source": [
    "# Load the CSV into a DataFrame\n",
    "data = pd.read_csv('Covid-19_data_version_2.csv')"
   ]
  },
  {
   "cell_type": "code",
   "execution_count": 10,
   "id": "5ccee929-7b18-4f28-b188-a9c5c05626f3",
   "metadata": {},
   "outputs": [
    {
     "data": {
      "text/html": [
       "<div>\n",
       "<style scoped>\n",
       "    .dataframe tbody tr th:only-of-type {\n",
       "        vertical-align: middle;\n",
       "    }\n",
       "\n",
       "    .dataframe tbody tr th {\n",
       "        vertical-align: top;\n",
       "    }\n",
       "\n",
       "    .dataframe thead th {\n",
       "        text-align: right;\n",
       "    }\n",
       "</style>\n",
       "<table border=\"1\" class=\"dataframe\">\n",
       "  <thead>\n",
       "    <tr style=\"text-align: right;\">\n",
       "      <th></th>\n",
       "      <th>iso_code</th>\n",
       "      <th>continent</th>\n",
       "      <th>location</th>\n",
       "      <th>date</th>\n",
       "      <th>total_cases</th>\n",
       "      <th>new_cases</th>\n",
       "      <th>new_cases_smoothed</th>\n",
       "      <th>total_deaths</th>\n",
       "      <th>new_deaths</th>\n",
       "      <th>new_deaths_smoothed</th>\n",
       "      <th>...</th>\n",
       "      <th>female_smokers</th>\n",
       "      <th>male_smokers</th>\n",
       "      <th>handwashing_facilities</th>\n",
       "      <th>hospital_beds_per_thousand</th>\n",
       "      <th>life_expectancy</th>\n",
       "      <th>human_development_index</th>\n",
       "      <th>excess_mortality_cumulative_absolute</th>\n",
       "      <th>excess_mortality_cumulative</th>\n",
       "      <th>excess_mortality</th>\n",
       "      <th>excess_mortality_cumulative_per_million</th>\n",
       "    </tr>\n",
       "  </thead>\n",
       "  <tbody>\n",
       "    <tr>\n",
       "      <th>0</th>\n",
       "      <td>AFG</td>\n",
       "      <td>Asia</td>\n",
       "      <td>Afghanistan</td>\n",
       "      <td>2020-02-24</td>\n",
       "      <td>5.0</td>\n",
       "      <td>5.0</td>\n",
       "      <td>NaN</td>\n",
       "      <td>NaN</td>\n",
       "      <td>NaN</td>\n",
       "      <td>NaN</td>\n",
       "      <td>...</td>\n",
       "      <td>NaN</td>\n",
       "      <td>NaN</td>\n",
       "      <td>37.746</td>\n",
       "      <td>0.5</td>\n",
       "      <td>64.83</td>\n",
       "      <td>0.511</td>\n",
       "      <td>NaN</td>\n",
       "      <td>NaN</td>\n",
       "      <td>NaN</td>\n",
       "      <td>NaN</td>\n",
       "    </tr>\n",
       "    <tr>\n",
       "      <th>1</th>\n",
       "      <td>AFG</td>\n",
       "      <td>Asia</td>\n",
       "      <td>Afghanistan</td>\n",
       "      <td>2020-02-25</td>\n",
       "      <td>5.0</td>\n",
       "      <td>0.0</td>\n",
       "      <td>NaN</td>\n",
       "      <td>NaN</td>\n",
       "      <td>NaN</td>\n",
       "      <td>NaN</td>\n",
       "      <td>...</td>\n",
       "      <td>NaN</td>\n",
       "      <td>NaN</td>\n",
       "      <td>37.746</td>\n",
       "      <td>0.5</td>\n",
       "      <td>64.83</td>\n",
       "      <td>0.511</td>\n",
       "      <td>NaN</td>\n",
       "      <td>NaN</td>\n",
       "      <td>NaN</td>\n",
       "      <td>NaN</td>\n",
       "    </tr>\n",
       "    <tr>\n",
       "      <th>2</th>\n",
       "      <td>AFG</td>\n",
       "      <td>Asia</td>\n",
       "      <td>Afghanistan</td>\n",
       "      <td>2020-02-26</td>\n",
       "      <td>5.0</td>\n",
       "      <td>0.0</td>\n",
       "      <td>NaN</td>\n",
       "      <td>NaN</td>\n",
       "      <td>NaN</td>\n",
       "      <td>NaN</td>\n",
       "      <td>...</td>\n",
       "      <td>NaN</td>\n",
       "      <td>NaN</td>\n",
       "      <td>37.746</td>\n",
       "      <td>0.5</td>\n",
       "      <td>64.83</td>\n",
       "      <td>0.511</td>\n",
       "      <td>NaN</td>\n",
       "      <td>NaN</td>\n",
       "      <td>NaN</td>\n",
       "      <td>NaN</td>\n",
       "    </tr>\n",
       "    <tr>\n",
       "      <th>3</th>\n",
       "      <td>AFG</td>\n",
       "      <td>Asia</td>\n",
       "      <td>Afghanistan</td>\n",
       "      <td>2020-02-27</td>\n",
       "      <td>5.0</td>\n",
       "      <td>0.0</td>\n",
       "      <td>NaN</td>\n",
       "      <td>NaN</td>\n",
       "      <td>NaN</td>\n",
       "      <td>NaN</td>\n",
       "      <td>...</td>\n",
       "      <td>NaN</td>\n",
       "      <td>NaN</td>\n",
       "      <td>37.746</td>\n",
       "      <td>0.5</td>\n",
       "      <td>64.83</td>\n",
       "      <td>0.511</td>\n",
       "      <td>NaN</td>\n",
       "      <td>NaN</td>\n",
       "      <td>NaN</td>\n",
       "      <td>NaN</td>\n",
       "    </tr>\n",
       "    <tr>\n",
       "      <th>4</th>\n",
       "      <td>AFG</td>\n",
       "      <td>Asia</td>\n",
       "      <td>Afghanistan</td>\n",
       "      <td>2020-02-28</td>\n",
       "      <td>5.0</td>\n",
       "      <td>0.0</td>\n",
       "      <td>NaN</td>\n",
       "      <td>NaN</td>\n",
       "      <td>NaN</td>\n",
       "      <td>NaN</td>\n",
       "      <td>...</td>\n",
       "      <td>NaN</td>\n",
       "      <td>NaN</td>\n",
       "      <td>37.746</td>\n",
       "      <td>0.5</td>\n",
       "      <td>64.83</td>\n",
       "      <td>0.511</td>\n",
       "      <td>NaN</td>\n",
       "      <td>NaN</td>\n",
       "      <td>NaN</td>\n",
       "      <td>NaN</td>\n",
       "    </tr>\n",
       "    <tr>\n",
       "      <th>...</th>\n",
       "      <td>...</td>\n",
       "      <td>...</td>\n",
       "      <td>...</td>\n",
       "      <td>...</td>\n",
       "      <td>...</td>\n",
       "      <td>...</td>\n",
       "      <td>...</td>\n",
       "      <td>...</td>\n",
       "      <td>...</td>\n",
       "      <td>...</td>\n",
       "      <td>...</td>\n",
       "      <td>...</td>\n",
       "      <td>...</td>\n",
       "      <td>...</td>\n",
       "      <td>...</td>\n",
       "      <td>...</td>\n",
       "      <td>...</td>\n",
       "      <td>...</td>\n",
       "      <td>...</td>\n",
       "      <td>...</td>\n",
       "      <td>...</td>\n",
       "    </tr>\n",
       "    <tr>\n",
       "      <th>149479</th>\n",
       "      <td>ZWE</td>\n",
       "      <td>Africa</td>\n",
       "      <td>Zimbabwe</td>\n",
       "      <td>2021-12-19</td>\n",
       "      <td>191673.0</td>\n",
       "      <td>2106.0</td>\n",
       "      <td>3504.714</td>\n",
       "      <td>4782.0</td>\n",
       "      <td>3.0</td>\n",
       "      <td>6.286</td>\n",
       "      <td>...</td>\n",
       "      <td>1.6</td>\n",
       "      <td>30.7</td>\n",
       "      <td>36.791</td>\n",
       "      <td>1.7</td>\n",
       "      <td>61.49</td>\n",
       "      <td>0.571</td>\n",
       "      <td>NaN</td>\n",
       "      <td>NaN</td>\n",
       "      <td>NaN</td>\n",
       "      <td>NaN</td>\n",
       "    </tr>\n",
       "    <tr>\n",
       "      <th>149480</th>\n",
       "      <td>ZWE</td>\n",
       "      <td>Africa</td>\n",
       "      <td>Zimbabwe</td>\n",
       "      <td>2021-12-20</td>\n",
       "      <td>195079.0</td>\n",
       "      <td>3406.0</td>\n",
       "      <td>3991.286</td>\n",
       "      <td>4805.0</td>\n",
       "      <td>23.0</td>\n",
       "      <td>9.571</td>\n",
       "      <td>...</td>\n",
       "      <td>1.6</td>\n",
       "      <td>30.7</td>\n",
       "      <td>36.791</td>\n",
       "      <td>1.7</td>\n",
       "      <td>61.49</td>\n",
       "      <td>0.571</td>\n",
       "      <td>NaN</td>\n",
       "      <td>NaN</td>\n",
       "      <td>NaN</td>\n",
       "      <td>NaN</td>\n",
       "    </tr>\n",
       "    <tr>\n",
       "      <th>149481</th>\n",
       "      <td>ZWE</td>\n",
       "      <td>Africa</td>\n",
       "      <td>Zimbabwe</td>\n",
       "      <td>2021-12-21</td>\n",
       "      <td>197768.0</td>\n",
       "      <td>2689.0</td>\n",
       "      <td>3679.429</td>\n",
       "      <td>4819.0</td>\n",
       "      <td>14.0</td>\n",
       "      <td>11.286</td>\n",
       "      <td>...</td>\n",
       "      <td>1.6</td>\n",
       "      <td>30.7</td>\n",
       "      <td>36.791</td>\n",
       "      <td>1.7</td>\n",
       "      <td>61.49</td>\n",
       "      <td>0.571</td>\n",
       "      <td>NaN</td>\n",
       "      <td>NaN</td>\n",
       "      <td>NaN</td>\n",
       "      <td>NaN</td>\n",
       "    </tr>\n",
       "    <tr>\n",
       "      <th>149482</th>\n",
       "      <td>ZWE</td>\n",
       "      <td>Africa</td>\n",
       "      <td>Zimbabwe</td>\n",
       "      <td>2021-12-22</td>\n",
       "      <td>199404.0</td>\n",
       "      <td>1636.0</td>\n",
       "      <td>3102.000</td>\n",
       "      <td>4828.0</td>\n",
       "      <td>9.0</td>\n",
       "      <td>11.857</td>\n",
       "      <td>...</td>\n",
       "      <td>1.6</td>\n",
       "      <td>30.7</td>\n",
       "      <td>36.791</td>\n",
       "      <td>1.7</td>\n",
       "      <td>61.49</td>\n",
       "      <td>0.571</td>\n",
       "      <td>NaN</td>\n",
       "      <td>NaN</td>\n",
       "      <td>NaN</td>\n",
       "      <td>NaN</td>\n",
       "    </tr>\n",
       "    <tr>\n",
       "      <th>149483</th>\n",
       "      <td>ZWE</td>\n",
       "      <td>Africa</td>\n",
       "      <td>Zimbabwe</td>\n",
       "      <td>2021-12-23</td>\n",
       "      <td>201344.0</td>\n",
       "      <td>1940.0</td>\n",
       "      <td>2755.286</td>\n",
       "      <td>4855.0</td>\n",
       "      <td>27.0</td>\n",
       "      <td>13.714</td>\n",
       "      <td>...</td>\n",
       "      <td>1.6</td>\n",
       "      <td>30.7</td>\n",
       "      <td>36.791</td>\n",
       "      <td>1.7</td>\n",
       "      <td>61.49</td>\n",
       "      <td>0.571</td>\n",
       "      <td>NaN</td>\n",
       "      <td>NaN</td>\n",
       "      <td>NaN</td>\n",
       "      <td>NaN</td>\n",
       "    </tr>\n",
       "  </tbody>\n",
       "</table>\n",
       "<p>149484 rows × 67 columns</p>\n",
       "</div>"
      ],
      "text/plain": [
       "       iso_code continent     location        date  total_cases  new_cases  \\\n",
       "0           AFG      Asia  Afghanistan  2020-02-24          5.0        5.0   \n",
       "1           AFG      Asia  Afghanistan  2020-02-25          5.0        0.0   \n",
       "2           AFG      Asia  Afghanistan  2020-02-26          5.0        0.0   \n",
       "3           AFG      Asia  Afghanistan  2020-02-27          5.0        0.0   \n",
       "4           AFG      Asia  Afghanistan  2020-02-28          5.0        0.0   \n",
       "...         ...       ...          ...         ...          ...        ...   \n",
       "149479      ZWE    Africa     Zimbabwe  2021-12-19     191673.0     2106.0   \n",
       "149480      ZWE    Africa     Zimbabwe  2021-12-20     195079.0     3406.0   \n",
       "149481      ZWE    Africa     Zimbabwe  2021-12-21     197768.0     2689.0   \n",
       "149482      ZWE    Africa     Zimbabwe  2021-12-22     199404.0     1636.0   \n",
       "149483      ZWE    Africa     Zimbabwe  2021-12-23     201344.0     1940.0   \n",
       "\n",
       "        new_cases_smoothed  total_deaths  new_deaths  new_deaths_smoothed  \\\n",
       "0                      NaN           NaN         NaN                  NaN   \n",
       "1                      NaN           NaN         NaN                  NaN   \n",
       "2                      NaN           NaN         NaN                  NaN   \n",
       "3                      NaN           NaN         NaN                  NaN   \n",
       "4                      NaN           NaN         NaN                  NaN   \n",
       "...                    ...           ...         ...                  ...   \n",
       "149479            3504.714        4782.0         3.0                6.286   \n",
       "149480            3991.286        4805.0        23.0                9.571   \n",
       "149481            3679.429        4819.0        14.0               11.286   \n",
       "149482            3102.000        4828.0         9.0               11.857   \n",
       "149483            2755.286        4855.0        27.0               13.714   \n",
       "\n",
       "        ...  female_smokers  male_smokers  handwashing_facilities  \\\n",
       "0       ...             NaN           NaN                  37.746   \n",
       "1       ...             NaN           NaN                  37.746   \n",
       "2       ...             NaN           NaN                  37.746   \n",
       "3       ...             NaN           NaN                  37.746   \n",
       "4       ...             NaN           NaN                  37.746   \n",
       "...     ...             ...           ...                     ...   \n",
       "149479  ...             1.6          30.7                  36.791   \n",
       "149480  ...             1.6          30.7                  36.791   \n",
       "149481  ...             1.6          30.7                  36.791   \n",
       "149482  ...             1.6          30.7                  36.791   \n",
       "149483  ...             1.6          30.7                  36.791   \n",
       "\n",
       "        hospital_beds_per_thousand  life_expectancy  human_development_index  \\\n",
       "0                              0.5            64.83                    0.511   \n",
       "1                              0.5            64.83                    0.511   \n",
       "2                              0.5            64.83                    0.511   \n",
       "3                              0.5            64.83                    0.511   \n",
       "4                              0.5            64.83                    0.511   \n",
       "...                            ...              ...                      ...   \n",
       "149479                         1.7            61.49                    0.571   \n",
       "149480                         1.7            61.49                    0.571   \n",
       "149481                         1.7            61.49                    0.571   \n",
       "149482                         1.7            61.49                    0.571   \n",
       "149483                         1.7            61.49                    0.571   \n",
       "\n",
       "        excess_mortality_cumulative_absolute  excess_mortality_cumulative  \\\n",
       "0                                        NaN                          NaN   \n",
       "1                                        NaN                          NaN   \n",
       "2                                        NaN                          NaN   \n",
       "3                                        NaN                          NaN   \n",
       "4                                        NaN                          NaN   \n",
       "...                                      ...                          ...   \n",
       "149479                                   NaN                          NaN   \n",
       "149480                                   NaN                          NaN   \n",
       "149481                                   NaN                          NaN   \n",
       "149482                                   NaN                          NaN   \n",
       "149483                                   NaN                          NaN   \n",
       "\n",
       "        excess_mortality  excess_mortality_cumulative_per_million  \n",
       "0                    NaN                                      NaN  \n",
       "1                    NaN                                      NaN  \n",
       "2                    NaN                                      NaN  \n",
       "3                    NaN                                      NaN  \n",
       "4                    NaN                                      NaN  \n",
       "...                  ...                                      ...  \n",
       "149479               NaN                                      NaN  \n",
       "149480               NaN                                      NaN  \n",
       "149481               NaN                                      NaN  \n",
       "149482               NaN                                      NaN  \n",
       "149483               NaN                                      NaN  \n",
       "\n",
       "[149484 rows x 67 columns]"
      ]
     },
     "execution_count": 10,
     "metadata": {},
     "output_type": "execute_result"
    }
   ],
   "source": [
    "data"
   ]
  },
  {
   "cell_type": "code",
   "execution_count": 11,
   "id": "b7921fbc-d4e2-4a05-9952-0bbfd282b6e0",
   "metadata": {},
   "outputs": [
    {
     "data": {
      "text/plain": [
       "Index(['iso_code', 'continent', 'location', 'date', 'total_cases', 'new_cases',\n",
       "       'new_cases_smoothed', 'total_deaths', 'new_deaths',\n",
       "       'new_deaths_smoothed', 'total_cases_per_million',\n",
       "       'new_cases_per_million', 'new_cases_smoothed_per_million',\n",
       "       'total_deaths_per_million', 'new_deaths_per_million',\n",
       "       'new_deaths_smoothed_per_million', 'reproduction_rate', 'icu_patients',\n",
       "       'icu_patients_per_million', 'hosp_patients',\n",
       "       'hosp_patients_per_million', 'weekly_icu_admissions',\n",
       "       'weekly_icu_admissions_per_million', 'weekly_hosp_admissions',\n",
       "       'weekly_hosp_admissions_per_million', 'new_tests', 'total_tests',\n",
       "       'total_tests_per_thousand', 'new_tests_per_thousand',\n",
       "       'new_tests_smoothed', 'new_tests_smoothed_per_thousand',\n",
       "       'positive_rate', 'tests_per_case', 'tests_units', 'total_vaccinations',\n",
       "       'people_vaccinated', 'people_fully_vaccinated', 'total_boosters',\n",
       "       'new_vaccinations', 'new_vaccinations_smoothed',\n",
       "       'total_vaccinations_per_hundred', 'people_vaccinated_per_hundred',\n",
       "       'people_fully_vaccinated_per_hundred', 'total_boosters_per_hundred',\n",
       "       'new_vaccinations_smoothed_per_million',\n",
       "       'new_people_vaccinated_smoothed',\n",
       "       'new_people_vaccinated_smoothed_per_hundred', 'stringency_index',\n",
       "       'population', 'population_density', 'median_age', 'aged_65_older',\n",
       "       'aged_70_older', 'gdp_per_capita', 'extreme_poverty',\n",
       "       'cardiovasc_death_rate', 'diabetes_prevalence', 'female_smokers',\n",
       "       'male_smokers', 'handwashing_facilities', 'hospital_beds_per_thousand',\n",
       "       'life_expectancy', 'human_development_index',\n",
       "       'excess_mortality_cumulative_absolute', 'excess_mortality_cumulative',\n",
       "       'excess_mortality', 'excess_mortality_cumulative_per_million'],\n",
       "      dtype='object')"
      ]
     },
     "execution_count": 11,
     "metadata": {},
     "output_type": "execute_result"
    }
   ],
   "source": [
    "# A partir du dataframe, affichez la liste des colonnes des données\n",
    "data.columns"
   ]
  },
  {
   "cell_type": "code",
   "execution_count": 12,
   "id": "88576552-54fc-4fa8-a9d7-018186f6c94b",
   "metadata": {},
   "outputs": [],
   "source": [
    "# Task 7: Quelle est la colonne représentant les pays ?\n",
    "# Answer: Column 'location'"
   ]
  },
  {
   "cell_type": "code",
   "execution_count": 13,
   "id": "f14b01f9-ae9c-4818-af41-697cef21452c",
   "metadata": {},
   "outputs": [],
   "source": [
    "# Combien y-a-t-il de pays représentés dans les données (utilisez la méthode unique par exemple).\n",
    "# Attention, on est souvent tenté d’écrire à la main (dans Python)\n",
    "# les algorithmes auxquels on pense, mais très (très) souvent, il existe une méthode déjà toute faite\n",
    "# (dans numpy, pandas, ou autre scipy ou scikit-learn)"
   ]
  },
  {
   "cell_type": "code",
   "execution_count": 14,
   "id": "a41ac61b-c3f8-4fe1-b880-86a8d19adc60",
   "metadata": {},
   "outputs": [
    {
     "data": {
      "text/plain": [
       "array(['Afghanistan', 'Africa', 'Albania', 'Algeria', 'Andorra', 'Angola',\n",
       "       'Anguilla', 'Antigua and Barbuda', 'Argentina', 'Armenia', 'Aruba',\n",
       "       'Asia', 'Australia', 'Austria', 'Azerbaijan', 'Bahamas', 'Bahrain',\n",
       "       'Bangladesh', 'Barbados', 'Belarus', 'Belgium', 'Belize', 'Benin',\n",
       "       'Bermuda', 'Bhutan', 'Bolivia', 'Bonaire Sint Eustatius and Saba',\n",
       "       'Bosnia and Herzegovina', 'Botswana', 'Brazil',\n",
       "       'British Virgin Islands', 'Brunei', 'Bulgaria', 'Burkina Faso',\n",
       "       'Burundi', 'Cambodia', 'Cameroon', 'Canada', 'Cape Verde',\n",
       "       'Cayman Islands', 'Central African Republic', 'Chad', 'Chile',\n",
       "       'China', 'Colombia', 'Comoros', 'Congo', 'Cook Islands',\n",
       "       'Costa Rica', \"Cote d'Ivoire\", 'Croatia', 'Cuba', 'Curacao',\n",
       "       'Cyprus', 'Czechia', 'Democratic Republic of Congo', 'Denmark',\n",
       "       'Djibouti', 'Dominica', 'Dominican Republic', 'Ecuador', 'Egypt',\n",
       "       'El Salvador', 'Equatorial Guinea', 'Eritrea', 'Estonia',\n",
       "       'Eswatini', 'Ethiopia', 'Europe', 'European Union',\n",
       "       'Faeroe Islands', 'Falkland Islands', 'Fiji', 'Finland', 'France',\n",
       "       'French Polynesia', 'Gabon', 'Gambia', 'Georgia', 'Germany',\n",
       "       'Ghana', 'Gibraltar', 'Greece', 'Greenland', 'Grenada',\n",
       "       'Guatemala', 'Guernsey', 'Guinea', 'Guinea-Bissau', 'Guyana',\n",
       "       'Haiti', 'High income', 'Honduras', 'Hong Kong', 'Hungary',\n",
       "       'Iceland', 'India', 'Indonesia', 'International', 'Iran', 'Iraq',\n",
       "       'Ireland', 'Isle of Man', 'Israel', 'Italy', 'Jamaica', 'Japan',\n",
       "       'Jersey', 'Jordan', 'Kazakhstan', 'Kenya', 'Kiribati', 'Kosovo',\n",
       "       'Kuwait', 'Kyrgyzstan', 'Laos', 'Latvia', 'Lebanon', 'Lesotho',\n",
       "       'Liberia', 'Libya', 'Liechtenstein', 'Lithuania', 'Low income',\n",
       "       'Lower middle income', 'Luxembourg', 'Macao', 'Madagascar',\n",
       "       'Malawi', 'Malaysia', 'Maldives', 'Mali', 'Malta',\n",
       "       'Marshall Islands', 'Mauritania', 'Mauritius', 'Mexico',\n",
       "       'Micronesia (country)', 'Moldova', 'Monaco', 'Mongolia',\n",
       "       'Montenegro', 'Montserrat', 'Morocco', 'Mozambique', 'Myanmar',\n",
       "       'Namibia', 'Nauru', 'Nepal', 'Netherlands', 'New Caledonia',\n",
       "       'New Zealand', 'Nicaragua', 'Niger', 'Nigeria', 'Niue',\n",
       "       'North America', 'North Macedonia', 'Northern Cyprus', 'Norway',\n",
       "       'Oceania', 'Oman', 'Pakistan', 'Palau', 'Palestine', 'Panama',\n",
       "       'Papua New Guinea', 'Paraguay', 'Peru', 'Philippines', 'Pitcairn',\n",
       "       'Poland', 'Portugal', 'Qatar', 'Romania', 'Russia', 'Rwanda',\n",
       "       'Saint Helena', 'Saint Kitts and Nevis', 'Saint Lucia',\n",
       "       'Saint Pierre and Miquelon', 'Saint Vincent and the Grenadines',\n",
       "       'Samoa', 'San Marino', 'Sao Tome and Principe', 'Saudi Arabia',\n",
       "       'Senegal', 'Serbia', 'Seychelles', 'Sierra Leone', 'Singapore',\n",
       "       'Sint Maarten (Dutch part)', 'Slovakia', 'Slovenia',\n",
       "       'Solomon Islands', 'Somalia', 'South Africa', 'South America',\n",
       "       'South Korea', 'South Sudan', 'Spain', 'Sri Lanka', 'Sudan',\n",
       "       'Suriname', 'Sweden', 'Switzerland', 'Syria', 'Taiwan',\n",
       "       'Tajikistan', 'Tanzania', 'Thailand', 'Timor', 'Togo', 'Tokelau',\n",
       "       'Tonga', 'Trinidad and Tobago', 'Tunisia', 'Turkey',\n",
       "       'Turkmenistan', 'Turks and Caicos Islands', 'Tuvalu', 'Uganda',\n",
       "       'Ukraine', 'United Arab Emirates', 'United Kingdom',\n",
       "       'United States', 'Upper middle income', 'Uruguay', 'Uzbekistan',\n",
       "       'Vanuatu', 'Vatican', 'Venezuela', 'Vietnam', 'Wallis and Futuna',\n",
       "       'World', 'Yemen', 'Zambia', 'Zimbabwe'], dtype=object)"
      ]
     },
     "execution_count": 14,
     "metadata": {},
     "output_type": "execute_result"
    }
   ],
   "source": [
    "np.unique(data['location'])"
   ]
  },
  {
   "cell_type": "code",
   "execution_count": 16,
   "id": "767cc11f-7da9-45e1-9070-e9d1c029cb4e",
   "metadata": {},
   "outputs": [],
   "source": [
    "# Task 9: Affichez la liste des continents\n",
    "continent_list = pd.unique(data.continent)"
   ]
  },
  {
   "cell_type": "code",
   "execution_count": 25,
   "id": "77da50a7-7dec-4926-a09d-f5a60b87a53e",
   "metadata": {},
   "outputs": [
    {
     "data": {
      "text/plain": [
       "array(['Asia', nan, 'Europe', 'Africa', 'North America', 'South America',\n",
       "       'Oceania'], dtype=object)"
      ]
     },
     "execution_count": 25,
     "metadata": {},
     "output_type": "execute_result"
    }
   ],
   "source": [
    "continent_list"
   ]
  },
  {
   "cell_type": "code",
   "execution_count": 26,
   "id": "a1925964-1ac5-4d64-bdd2-8c5f1cd91647",
   "metadata": {},
   "outputs": [
    {
     "data": {
      "text/plain": [
       "0    2020-02-24\n",
       "1    2020-02-25\n",
       "2    2020-02-26\n",
       "3    2020-02-27\n",
       "4    2020-02-28\n",
       "Name: date, dtype: object"
      ]
     },
     "execution_count": 26,
     "metadata": {},
     "output_type": "execute_result"
    }
   ],
   "source": [
    "# Quelle est la date des premières données ?\n",
    "data.date.head()"
   ]
  },
  {
   "cell_type": "code",
   "execution_count": 27,
   "id": "ec5e0bdb-de83-4699-8e92-a34496370fb2",
   "metadata": {},
   "outputs": [
    {
     "data": {
      "text/plain": [
       "149479    2021-12-19\n",
       "149480    2021-12-20\n",
       "149481    2021-12-21\n",
       "149482    2021-12-22\n",
       "149483    2021-12-23\n",
       "Name: date, dtype: object"
      ]
     },
     "execution_count": 27,
     "metadata": {},
     "output_type": "execute_result"
    }
   ],
   "source": [
    "# Quelle est la date des dernières données (i.e. la plus récente)\n",
    "data.date.tail()"
   ]
  },
  {
   "cell_type": "code",
   "execution_count": 40,
   "id": "d8c8ef4d-daac-4c26-bb9d-2912d484db6f",
   "metadata": {},
   "outputs": [],
   "source": [
    "# Exportez la liste des pays dans un fichier pays.txt (un pays par ligne)\n",
    "# export the list of countries\n",
    "with open(('pays.txt'), 'w') as file:\n",
    "    file.write(str(np.unique(data['location'])))"
   ]
  },
  {
   "cell_type": "code",
   "execution_count": 43,
   "id": "8be72e6b-736c-4e64-ae40-d4db757c93d6",
   "metadata": {},
   "outputs": [],
   "source": [
    "# export with one country for line:\n",
    "loc_list = pd.unique(data['location'])\n",
    "loc_list.tofile('pays.txt', '\\n')"
   ]
  },
  {
   "cell_type": "code",
   "execution_count": 45,
   "id": "36ff78b1-d6c2-415e-8558-c2625f239448",
   "metadata": {},
   "outputs": [
    {
     "data": {
      "text/plain": [
       "<bound method DataFrame.info of        iso_code continent     location        date  total_cases  new_cases  \\\n",
       "0           AFG      Asia  Afghanistan  2020-02-24          5.0        5.0   \n",
       "1           AFG      Asia  Afghanistan  2020-02-25          5.0        0.0   \n",
       "2           AFG      Asia  Afghanistan  2020-02-26          5.0        0.0   \n",
       "3           AFG      Asia  Afghanistan  2020-02-27          5.0        0.0   \n",
       "4           AFG      Asia  Afghanistan  2020-02-28          5.0        0.0   \n",
       "...         ...       ...          ...         ...          ...        ...   \n",
       "149479      ZWE    Africa     Zimbabwe  2021-12-19     191673.0     2106.0   \n",
       "149480      ZWE    Africa     Zimbabwe  2021-12-20     195079.0     3406.0   \n",
       "149481      ZWE    Africa     Zimbabwe  2021-12-21     197768.0     2689.0   \n",
       "149482      ZWE    Africa     Zimbabwe  2021-12-22     199404.0     1636.0   \n",
       "149483      ZWE    Africa     Zimbabwe  2021-12-23     201344.0     1940.0   \n",
       "\n",
       "        new_cases_smoothed  total_deaths  new_deaths  new_deaths_smoothed  \\\n",
       "0                      NaN           NaN         NaN                  NaN   \n",
       "1                      NaN           NaN         NaN                  NaN   \n",
       "2                      NaN           NaN         NaN                  NaN   \n",
       "3                      NaN           NaN         NaN                  NaN   \n",
       "4                      NaN           NaN         NaN                  NaN   \n",
       "...                    ...           ...         ...                  ...   \n",
       "149479            3504.714        4782.0         3.0                6.286   \n",
       "149480            3991.286        4805.0        23.0                9.571   \n",
       "149481            3679.429        4819.0        14.0               11.286   \n",
       "149482            3102.000        4828.0         9.0               11.857   \n",
       "149483            2755.286        4855.0        27.0               13.714   \n",
       "\n",
       "        ...  female_smokers  male_smokers  handwashing_facilities  \\\n",
       "0       ...             NaN           NaN                  37.746   \n",
       "1       ...             NaN           NaN                  37.746   \n",
       "2       ...             NaN           NaN                  37.746   \n",
       "3       ...             NaN           NaN                  37.746   \n",
       "4       ...             NaN           NaN                  37.746   \n",
       "...     ...             ...           ...                     ...   \n",
       "149479  ...             1.6          30.7                  36.791   \n",
       "149480  ...             1.6          30.7                  36.791   \n",
       "149481  ...             1.6          30.7                  36.791   \n",
       "149482  ...             1.6          30.7                  36.791   \n",
       "149483  ...             1.6          30.7                  36.791   \n",
       "\n",
       "        hospital_beds_per_thousand  life_expectancy  human_development_index  \\\n",
       "0                              0.5            64.83                    0.511   \n",
       "1                              0.5            64.83                    0.511   \n",
       "2                              0.5            64.83                    0.511   \n",
       "3                              0.5            64.83                    0.511   \n",
       "4                              0.5            64.83                    0.511   \n",
       "...                            ...              ...                      ...   \n",
       "149479                         1.7            61.49                    0.571   \n",
       "149480                         1.7            61.49                    0.571   \n",
       "149481                         1.7            61.49                    0.571   \n",
       "149482                         1.7            61.49                    0.571   \n",
       "149483                         1.7            61.49                    0.571   \n",
       "\n",
       "        excess_mortality_cumulative_absolute  excess_mortality_cumulative  \\\n",
       "0                                        NaN                          NaN   \n",
       "1                                        NaN                          NaN   \n",
       "2                                        NaN                          NaN   \n",
       "3                                        NaN                          NaN   \n",
       "4                                        NaN                          NaN   \n",
       "...                                      ...                          ...   \n",
       "149479                                   NaN                          NaN   \n",
       "149480                                   NaN                          NaN   \n",
       "149481                                   NaN                          NaN   \n",
       "149482                                   NaN                          NaN   \n",
       "149483                                   NaN                          NaN   \n",
       "\n",
       "        excess_mortality  excess_mortality_cumulative_per_million  \n",
       "0                    NaN                                      NaN  \n",
       "1                    NaN                                      NaN  \n",
       "2                    NaN                                      NaN  \n",
       "3                    NaN                                      NaN  \n",
       "4                    NaN                                      NaN  \n",
       "...                  ...                                      ...  \n",
       "149479               NaN                                      NaN  \n",
       "149480               NaN                                      NaN  \n",
       "149481               NaN                                      NaN  \n",
       "149482               NaN                                      NaN  \n",
       "149483               NaN                                      NaN  \n",
       "\n",
       "[149484 rows x 67 columns]>"
      ]
     },
     "execution_count": 45,
     "metadata": {},
     "output_type": "execute_result"
    }
   ],
   "source": [
    "# addition study of dataset\n",
    "data.info"
   ]
  },
  {
   "cell_type": "code",
   "execution_count": 46,
   "id": "387dbc81-35c9-4204-8eaa-ba2bbd2ac243",
   "metadata": {},
   "outputs": [
    {
     "data": {
      "text/html": [
       "<div>\n",
       "<style scoped>\n",
       "    .dataframe tbody tr th:only-of-type {\n",
       "        vertical-align: middle;\n",
       "    }\n",
       "\n",
       "    .dataframe tbody tr th {\n",
       "        vertical-align: top;\n",
       "    }\n",
       "\n",
       "    .dataframe thead th {\n",
       "        text-align: right;\n",
       "    }\n",
       "</style>\n",
       "<table border=\"1\" class=\"dataframe\">\n",
       "  <thead>\n",
       "    <tr style=\"text-align: right;\">\n",
       "      <th></th>\n",
       "      <th>total_cases</th>\n",
       "      <th>new_cases</th>\n",
       "      <th>new_cases_smoothed</th>\n",
       "      <th>total_deaths</th>\n",
       "      <th>new_deaths</th>\n",
       "      <th>new_deaths_smoothed</th>\n",
       "      <th>total_cases_per_million</th>\n",
       "      <th>new_cases_per_million</th>\n",
       "      <th>new_cases_smoothed_per_million</th>\n",
       "      <th>total_deaths_per_million</th>\n",
       "      <th>...</th>\n",
       "      <th>female_smokers</th>\n",
       "      <th>male_smokers</th>\n",
       "      <th>handwashing_facilities</th>\n",
       "      <th>hospital_beds_per_thousand</th>\n",
       "      <th>life_expectancy</th>\n",
       "      <th>human_development_index</th>\n",
       "      <th>excess_mortality_cumulative_absolute</th>\n",
       "      <th>excess_mortality_cumulative</th>\n",
       "      <th>excess_mortality</th>\n",
       "      <th>excess_mortality_cumulative_per_million</th>\n",
       "    </tr>\n",
       "  </thead>\n",
       "  <tbody>\n",
       "    <tr>\n",
       "      <th>count</th>\n",
       "      <td>1.468740e+05</td>\n",
       "      <td>146868.000000</td>\n",
       "      <td>145723.000000</td>\n",
       "      <td>1.298420e+05</td>\n",
       "      <td>130037.000000</td>\n",
       "      <td>145723.000000</td>\n",
       "      <td>146188.000000</td>\n",
       "      <td>146182.000000</td>\n",
       "      <td>145042.000000</td>\n",
       "      <td>129169.000000</td>\n",
       "      <td>...</td>\n",
       "      <td>95441.000000</td>\n",
       "      <td>94065.000000</td>\n",
       "      <td>61703.000000</td>\n",
       "      <td>111328.000000</td>\n",
       "      <td>139508.000000</td>\n",
       "      <td>122689.000000</td>\n",
       "      <td>5125.000000</td>\n",
       "      <td>5125.000000</td>\n",
       "      <td>5125.000000</td>\n",
       "      <td>5125.000000</td>\n",
       "    </tr>\n",
       "    <tr>\n",
       "      <th>mean</th>\n",
       "      <td>2.061125e+06</td>\n",
       "      <td>7920.379851</td>\n",
       "      <td>7909.307259</td>\n",
       "      <td>5.146714e+04</td>\n",
       "      <td>171.795966</td>\n",
       "      <td>152.631726</td>\n",
       "      <td>22432.235255</td>\n",
       "      <td>96.984757</td>\n",
       "      <td>96.579720</td>\n",
       "      <td>443.320084</td>\n",
       "      <td>...</td>\n",
       "      <td>10.584995</td>\n",
       "      <td>32.755418</td>\n",
       "      <td>50.826749</td>\n",
       "      <td>3.027251</td>\n",
       "      <td>73.598369</td>\n",
       "      <td>0.725944</td>\n",
       "      <td>33933.533385</td>\n",
       "      <td>8.989011</td>\n",
       "      <td>16.209239</td>\n",
       "      <td>849.068933</td>\n",
       "    </tr>\n",
       "    <tr>\n",
       "      <th>std</th>\n",
       "      <td>1.223085e+07</td>\n",
       "      <td>43301.655123</td>\n",
       "      <td>42534.661503</td>\n",
       "      <td>2.709756e+05</td>\n",
       "      <td>836.472337</td>\n",
       "      <td>773.288877</td>\n",
       "      <td>36660.199466</td>\n",
       "      <td>300.085494</td>\n",
       "      <td>215.666161</td>\n",
       "      <td>705.771953</td>\n",
       "      <td>...</td>\n",
       "      <td>10.499225</td>\n",
       "      <td>13.519780</td>\n",
       "      <td>31.815332</td>\n",
       "      <td>2.453497</td>\n",
       "      <td>7.490756</td>\n",
       "      <td>0.150002</td>\n",
       "      <td>95909.379877</td>\n",
       "      <td>16.682299</td>\n",
       "      <td>31.277328</td>\n",
       "      <td>1264.970282</td>\n",
       "    </tr>\n",
       "    <tr>\n",
       "      <th>min</th>\n",
       "      <td>1.000000e+00</td>\n",
       "      <td>-74347.000000</td>\n",
       "      <td>-6223.000000</td>\n",
       "      <td>1.000000e+00</td>\n",
       "      <td>-1918.000000</td>\n",
       "      <td>-232.143000</td>\n",
       "      <td>0.001000</td>\n",
       "      <td>-3125.829000</td>\n",
       "      <td>-272.971000</td>\n",
       "      <td>0.000000</td>\n",
       "      <td>...</td>\n",
       "      <td>0.100000</td>\n",
       "      <td>7.700000</td>\n",
       "      <td>1.188000</td>\n",
       "      <td>0.100000</td>\n",
       "      <td>53.280000</td>\n",
       "      <td>0.394000</td>\n",
       "      <td>-31959.400000</td>\n",
       "      <td>-28.450000</td>\n",
       "      <td>-95.920000</td>\n",
       "      <td>-1745.051271</td>\n",
       "    </tr>\n",
       "    <tr>\n",
       "      <th>25%</th>\n",
       "      <td>1.480250e+03</td>\n",
       "      <td>1.000000</td>\n",
       "      <td>5.571000</td>\n",
       "      <td>6.500000e+01</td>\n",
       "      <td>0.000000</td>\n",
       "      <td>0.000000</td>\n",
       "      <td>486.710750</td>\n",
       "      <td>0.022000</td>\n",
       "      <td>1.399000</td>\n",
       "      <td>15.038000</td>\n",
       "      <td>...</td>\n",
       "      <td>1.900000</td>\n",
       "      <td>21.600000</td>\n",
       "      <td>19.351000</td>\n",
       "      <td>1.300000</td>\n",
       "      <td>69.500000</td>\n",
       "      <td>0.602000</td>\n",
       "      <td>-98.400000</td>\n",
       "      <td>-0.870000</td>\n",
       "      <td>-0.580000</td>\n",
       "      <td>-38.847199</td>\n",
       "    </tr>\n",
       "    <tr>\n",
       "      <th>50%</th>\n",
       "      <td>1.952300e+04</td>\n",
       "      <td>67.000000</td>\n",
       "      <td>88.000000</td>\n",
       "      <td>6.510000e+02</td>\n",
       "      <td>2.000000</td>\n",
       "      <td>1.286000</td>\n",
       "      <td>3890.005000</td>\n",
       "      <td>9.704500</td>\n",
       "      <td>15.308500</td>\n",
       "      <td>101.215000</td>\n",
       "      <td>...</td>\n",
       "      <td>6.300000</td>\n",
       "      <td>31.400000</td>\n",
       "      <td>49.839000</td>\n",
       "      <td>2.400000</td>\n",
       "      <td>75.050000</td>\n",
       "      <td>0.743000</td>\n",
       "      <td>2609.300000</td>\n",
       "      <td>5.510000</td>\n",
       "      <td>7.140000</td>\n",
       "      <td>404.628241</td>\n",
       "    </tr>\n",
       "    <tr>\n",
       "      <th>75%</th>\n",
       "      <td>2.462380e+05</td>\n",
       "      <td>901.000000</td>\n",
       "      <td>951.928500</td>\n",
       "      <td>6.296750e+03</td>\n",
       "      <td>19.000000</td>\n",
       "      <td>15.000000</td>\n",
       "      <td>29034.673000</td>\n",
       "      <td>83.808500</td>\n",
       "      <td>96.211750</td>\n",
       "      <td>597.155000</td>\n",
       "      <td>...</td>\n",
       "      <td>19.300000</td>\n",
       "      <td>41.300000</td>\n",
       "      <td>83.241000</td>\n",
       "      <td>4.000000</td>\n",
       "      <td>78.930000</td>\n",
       "      <td>0.845000</td>\n",
       "      <td>21491.200000</td>\n",
       "      <td>13.880000</td>\n",
       "      <td>22.620000</td>\n",
       "      <td>1437.343286</td>\n",
       "    </tr>\n",
       "    <tr>\n",
       "      <th>max</th>\n",
       "      <td>2.781437e+08</td>\n",
       "      <td>970817.000000</td>\n",
       "      <td>827255.429000</td>\n",
       "      <td>5.386664e+06</td>\n",
       "      <td>18062.000000</td>\n",
       "      <td>14704.714000</td>\n",
       "      <td>278860.822000</td>\n",
       "      <td>51427.491000</td>\n",
       "      <td>7406.207000</td>\n",
       "      <td>6067.972000</td>\n",
       "      <td>...</td>\n",
       "      <td>44.000000</td>\n",
       "      <td>78.100000</td>\n",
       "      <td>100.000000</td>\n",
       "      <td>13.800000</td>\n",
       "      <td>86.750000</td>\n",
       "      <td>0.957000</td>\n",
       "      <td>984309.300000</td>\n",
       "      <td>115.000000</td>\n",
       "      <td>374.200000</td>\n",
       "      <td>7733.995683</td>\n",
       "    </tr>\n",
       "  </tbody>\n",
       "</table>\n",
       "<p>8 rows × 62 columns</p>\n",
       "</div>"
      ],
      "text/plain": [
       "        total_cases      new_cases  new_cases_smoothed  total_deaths  \\\n",
       "count  1.468740e+05  146868.000000       145723.000000  1.298420e+05   \n",
       "mean   2.061125e+06    7920.379851         7909.307259  5.146714e+04   \n",
       "std    1.223085e+07   43301.655123        42534.661503  2.709756e+05   \n",
       "min    1.000000e+00  -74347.000000        -6223.000000  1.000000e+00   \n",
       "25%    1.480250e+03       1.000000            5.571000  6.500000e+01   \n",
       "50%    1.952300e+04      67.000000           88.000000  6.510000e+02   \n",
       "75%    2.462380e+05     901.000000          951.928500  6.296750e+03   \n",
       "max    2.781437e+08  970817.000000       827255.429000  5.386664e+06   \n",
       "\n",
       "          new_deaths  new_deaths_smoothed  total_cases_per_million  \\\n",
       "count  130037.000000        145723.000000            146188.000000   \n",
       "mean      171.795966           152.631726             22432.235255   \n",
       "std       836.472337           773.288877             36660.199466   \n",
       "min     -1918.000000          -232.143000                 0.001000   \n",
       "25%         0.000000             0.000000               486.710750   \n",
       "50%         2.000000             1.286000              3890.005000   \n",
       "75%        19.000000            15.000000             29034.673000   \n",
       "max     18062.000000         14704.714000            278860.822000   \n",
       "\n",
       "       new_cases_per_million  new_cases_smoothed_per_million  \\\n",
       "count          146182.000000                   145042.000000   \n",
       "mean               96.984757                       96.579720   \n",
       "std               300.085494                      215.666161   \n",
       "min             -3125.829000                     -272.971000   \n",
       "25%                 0.022000                        1.399000   \n",
       "50%                 9.704500                       15.308500   \n",
       "75%                83.808500                       96.211750   \n",
       "max             51427.491000                     7406.207000   \n",
       "\n",
       "       total_deaths_per_million  ...  female_smokers  male_smokers  \\\n",
       "count             129169.000000  ...    95441.000000  94065.000000   \n",
       "mean                 443.320084  ...       10.584995     32.755418   \n",
       "std                  705.771953  ...       10.499225     13.519780   \n",
       "min                    0.000000  ...        0.100000      7.700000   \n",
       "25%                   15.038000  ...        1.900000     21.600000   \n",
       "50%                  101.215000  ...        6.300000     31.400000   \n",
       "75%                  597.155000  ...       19.300000     41.300000   \n",
       "max                 6067.972000  ...       44.000000     78.100000   \n",
       "\n",
       "       handwashing_facilities  hospital_beds_per_thousand  life_expectancy  \\\n",
       "count            61703.000000               111328.000000    139508.000000   \n",
       "mean                50.826749                    3.027251        73.598369   \n",
       "std                 31.815332                    2.453497         7.490756   \n",
       "min                  1.188000                    0.100000        53.280000   \n",
       "25%                 19.351000                    1.300000        69.500000   \n",
       "50%                 49.839000                    2.400000        75.050000   \n",
       "75%                 83.241000                    4.000000        78.930000   \n",
       "max                100.000000                   13.800000        86.750000   \n",
       "\n",
       "       human_development_index  excess_mortality_cumulative_absolute  \\\n",
       "count            122689.000000                           5125.000000   \n",
       "mean                  0.725944                          33933.533385   \n",
       "std                   0.150002                          95909.379877   \n",
       "min                   0.394000                         -31959.400000   \n",
       "25%                   0.602000                            -98.400000   \n",
       "50%                   0.743000                           2609.300000   \n",
       "75%                   0.845000                          21491.200000   \n",
       "max                   0.957000                         984309.300000   \n",
       "\n",
       "       excess_mortality_cumulative  excess_mortality  \\\n",
       "count                  5125.000000       5125.000000   \n",
       "mean                      8.989011         16.209239   \n",
       "std                      16.682299         31.277328   \n",
       "min                     -28.450000        -95.920000   \n",
       "25%                      -0.870000         -0.580000   \n",
       "50%                       5.510000          7.140000   \n",
       "75%                      13.880000         22.620000   \n",
       "max                     115.000000        374.200000   \n",
       "\n",
       "       excess_mortality_cumulative_per_million  \n",
       "count                              5125.000000  \n",
       "mean                                849.068933  \n",
       "std                                1264.970282  \n",
       "min                               -1745.051271  \n",
       "25%                                 -38.847199  \n",
       "50%                                 404.628241  \n",
       "75%                                1437.343286  \n",
       "max                                7733.995683  \n",
       "\n",
       "[8 rows x 62 columns]"
      ]
     },
     "execution_count": 46,
     "metadata": {},
     "output_type": "execute_result"
    }
   ],
   "source": [
    "data.describe()"
   ]
  },
  {
   "cell_type": "code",
   "execution_count": 4,
   "id": "c3f4ed4a-050f-4c05-8e52-285c5461671d",
   "metadata": {},
   "outputs": [
    {
     "data": {
      "text/html": [
       "<div>\n",
       "<style scoped>\n",
       "    .dataframe tbody tr th:only-of-type {\n",
       "        vertical-align: middle;\n",
       "    }\n",
       "\n",
       "    .dataframe tbody tr th {\n",
       "        vertical-align: top;\n",
       "    }\n",
       "\n",
       "    .dataframe thead th {\n",
       "        text-align: right;\n",
       "    }\n",
       "</style>\n",
       "<table border=\"1\" class=\"dataframe\">\n",
       "  <thead>\n",
       "    <tr style=\"text-align: right;\">\n",
       "      <th></th>\n",
       "      <th>Animal</th>\n",
       "      <th>Max Speed</th>\n",
       "    </tr>\n",
       "  </thead>\n",
       "  <tbody>\n",
       "    <tr>\n",
       "      <th>0</th>\n",
       "      <td>Falcon</td>\n",
       "      <td>380.0</td>\n",
       "    </tr>\n",
       "    <tr>\n",
       "      <th>1</th>\n",
       "      <td>Falcon</td>\n",
       "      <td>370.0</td>\n",
       "    </tr>\n",
       "    <tr>\n",
       "      <th>2</th>\n",
       "      <td>Parrot</td>\n",
       "      <td>24.0</td>\n",
       "    </tr>\n",
       "    <tr>\n",
       "      <th>3</th>\n",
       "      <td>Parrot</td>\n",
       "      <td>26.0</td>\n",
       "    </tr>\n",
       "  </tbody>\n",
       "</table>\n",
       "</div>"
      ],
      "text/plain": [
       "   Animal  Max Speed\n",
       "0  Falcon      380.0\n",
       "1  Falcon      370.0\n",
       "2  Parrot       24.0\n",
       "3  Parrot       26.0"
      ]
     },
     "execution_count": 4,
     "metadata": {},
     "output_type": "execute_result"
    }
   ],
   "source": [
    "# Task 13: Affichez les pays, classés par continents\n",
    "# Here we are getting into PANDAS function groupby()\n",
    "# groupby operation involves some combination of splitting the object, applying a function, and combining the results.\n",
    "# This can be used to group large amounts of data and compute operations on these groups.\n",
    "\n",
    "group_df = pd.DataFrame({'Animal': ['Falcon', 'Falcon','Parrot', 'Parrot'],\n",
    "                         'Max Speed': [380., 370., 24., 26.]})\n",
    "group_df\n"
   ]
  },
  {
   "cell_type": "code",
   "execution_count": 5,
   "id": "bba164bb-b225-46f0-9c5f-cac6d3cd6c40",
   "metadata": {},
   "outputs": [
    {
     "data": {
      "text/html": [
       "<div>\n",
       "<style scoped>\n",
       "    .dataframe tbody tr th:only-of-type {\n",
       "        vertical-align: middle;\n",
       "    }\n",
       "\n",
       "    .dataframe tbody tr th {\n",
       "        vertical-align: top;\n",
       "    }\n",
       "\n",
       "    .dataframe thead th {\n",
       "        text-align: right;\n",
       "    }\n",
       "</style>\n",
       "<table border=\"1\" class=\"dataframe\">\n",
       "  <thead>\n",
       "    <tr style=\"text-align: right;\">\n",
       "      <th></th>\n",
       "      <th>Max Speed</th>\n",
       "    </tr>\n",
       "    <tr>\n",
       "      <th>Animal</th>\n",
       "      <th></th>\n",
       "    </tr>\n",
       "  </thead>\n",
       "  <tbody>\n",
       "    <tr>\n",
       "      <th>Falcon</th>\n",
       "      <td>750.0</td>\n",
       "    </tr>\n",
       "    <tr>\n",
       "      <th>Parrot</th>\n",
       "      <td>50.0</td>\n",
       "    </tr>\n",
       "  </tbody>\n",
       "</table>\n",
       "</div>"
      ],
      "text/plain": [
       "        Max Speed\n",
       "Animal           \n",
       "Falcon      750.0\n",
       "Parrot       50.0"
      ]
     },
     "execution_count": 5,
     "metadata": {},
     "output_type": "execute_result"
    }
   ],
   "source": [
    "group_df.groupby(['Animal']).sum()"
   ]
  },
  {
   "cell_type": "code",
   "execution_count": 6,
   "id": "2b03f1ba-696f-49bd-b99f-4f2273de18f4",
   "metadata": {},
   "outputs": [
    {
     "data": {
      "text/html": [
       "<div>\n",
       "<style scoped>\n",
       "    .dataframe tbody tr th:only-of-type {\n",
       "        vertical-align: middle;\n",
       "    }\n",
       "\n",
       "    .dataframe tbody tr th {\n",
       "        vertical-align: top;\n",
       "    }\n",
       "\n",
       "    .dataframe thead th {\n",
       "        text-align: right;\n",
       "    }\n",
       "</style>\n",
       "<table border=\"1\" class=\"dataframe\">\n",
       "  <thead>\n",
       "    <tr style=\"text-align: right;\">\n",
       "      <th></th>\n",
       "      <th>Max Speed</th>\n",
       "    </tr>\n",
       "    <tr>\n",
       "      <th>Animal</th>\n",
       "      <th></th>\n",
       "    </tr>\n",
       "  </thead>\n",
       "  <tbody>\n",
       "    <tr>\n",
       "      <th>Falcon</th>\n",
       "      <td>375.0</td>\n",
       "    </tr>\n",
       "    <tr>\n",
       "      <th>Parrot</th>\n",
       "      <td>25.0</td>\n",
       "    </tr>\n",
       "  </tbody>\n",
       "</table>\n",
       "</div>"
      ],
      "text/plain": [
       "        Max Speed\n",
       "Animal           \n",
       "Falcon      375.0\n",
       "Parrot       25.0"
      ]
     },
     "execution_count": 6,
     "metadata": {},
     "output_type": "execute_result"
    }
   ],
   "source": [
    "group_df.groupby(['Animal']).mean()"
   ]
  },
  {
   "cell_type": "code",
   "execution_count": 28,
   "id": "f0fc4faf-c748-4e18-9d51-bec728b3f3ec",
   "metadata": {},
   "outputs": [
    {
     "data": {
      "text/html": [
       "<div>\n",
       "<style scoped>\n",
       "    .dataframe tbody tr th:only-of-type {\n",
       "        vertical-align: middle;\n",
       "    }\n",
       "\n",
       "    .dataframe tbody tr th {\n",
       "        vertical-align: top;\n",
       "    }\n",
       "\n",
       "    .dataframe thead th {\n",
       "        text-align: right;\n",
       "    }\n",
       "</style>\n",
       "<table border=\"1\" class=\"dataframe\">\n",
       "  <thead>\n",
       "    <tr style=\"text-align: right;\">\n",
       "      <th></th>\n",
       "      <th></th>\n",
       "      <th>Max Speed</th>\n",
       "    </tr>\n",
       "    <tr>\n",
       "      <th>Animal</th>\n",
       "      <th>Type</th>\n",
       "      <th></th>\n",
       "    </tr>\n",
       "  </thead>\n",
       "  <tbody>\n",
       "    <tr>\n",
       "      <th rowspan=\"2\" valign=\"top\">Falcon</th>\n",
       "      <th>Captive</th>\n",
       "      <td>390.0</td>\n",
       "    </tr>\n",
       "    <tr>\n",
       "      <th>Wild</th>\n",
       "      <td>350.0</td>\n",
       "    </tr>\n",
       "    <tr>\n",
       "      <th rowspan=\"2\" valign=\"top\">Parrot</th>\n",
       "      <th>Captive</th>\n",
       "      <td>30.0</td>\n",
       "    </tr>\n",
       "    <tr>\n",
       "      <th>Wild</th>\n",
       "      <td>20.0</td>\n",
       "    </tr>\n",
       "  </tbody>\n",
       "</table>\n",
       "</div>"
      ],
      "text/plain": [
       "                Max Speed\n",
       "Animal Type              \n",
       "Falcon Captive      390.0\n",
       "       Wild         350.0\n",
       "Parrot Captive       30.0\n",
       "       Wild          20.0"
      ]
     },
     "execution_count": 28,
     "metadata": {},
     "output_type": "execute_result"
    }
   ],
   "source": [
    "arrays = [['Falcon', 'Falcon', 'Parrot', 'Parrot'],\n",
    "          ['Captive', 'Wild', 'Captive', 'Wild']]\n",
    "index = pd.MultiIndex.from_arrays(arrays, names=('Animal', 'Type'))\n",
    "df = pd.DataFrame({'Max Speed': [390., 350., 30., 20.]},\n",
    "                  index=index)\n",
    "df"
   ]
  },
  {
   "cell_type": "code",
   "execution_count": 29,
   "id": "19347aac-da21-46bf-bcbf-53d3806d2ca6",
   "metadata": {},
   "outputs": [
    {
     "data": {
      "text/html": [
       "<div>\n",
       "<style scoped>\n",
       "    .dataframe tbody tr th:only-of-type {\n",
       "        vertical-align: middle;\n",
       "    }\n",
       "\n",
       "    .dataframe tbody tr th {\n",
       "        vertical-align: top;\n",
       "    }\n",
       "\n",
       "    .dataframe thead th {\n",
       "        text-align: right;\n",
       "    }\n",
       "</style>\n",
       "<table border=\"1\" class=\"dataframe\">\n",
       "  <thead>\n",
       "    <tr style=\"text-align: right;\">\n",
       "      <th></th>\n",
       "      <th>Max Speed</th>\n",
       "    </tr>\n",
       "    <tr>\n",
       "      <th>Animal</th>\n",
       "      <th></th>\n",
       "    </tr>\n",
       "  </thead>\n",
       "  <tbody>\n",
       "    <tr>\n",
       "      <th>Falcon</th>\n",
       "      <td>740.0</td>\n",
       "    </tr>\n",
       "    <tr>\n",
       "      <th>Parrot</th>\n",
       "      <td>50.0</td>\n",
       "    </tr>\n",
       "  </tbody>\n",
       "</table>\n",
       "</div>"
      ],
      "text/plain": [
       "        Max Speed\n",
       "Animal           \n",
       "Falcon      740.0\n",
       "Parrot       50.0"
      ]
     },
     "execution_count": 29,
     "metadata": {},
     "output_type": "execute_result"
    }
   ],
   "source": [
    "df.groupby(level=0).sum()"
   ]
  },
  {
   "cell_type": "code",
   "execution_count": 30,
   "id": "fb0228dd-eb0e-4fd7-b8b9-ef0d9e01dfb7",
   "metadata": {},
   "outputs": [
    {
     "data": {
      "text/html": [
       "<div>\n",
       "<style scoped>\n",
       "    .dataframe tbody tr th:only-of-type {\n",
       "        vertical-align: middle;\n",
       "    }\n",
       "\n",
       "    .dataframe tbody tr th {\n",
       "        vertical-align: top;\n",
       "    }\n",
       "\n",
       "    .dataframe thead th {\n",
       "        text-align: right;\n",
       "    }\n",
       "</style>\n",
       "<table border=\"1\" class=\"dataframe\">\n",
       "  <thead>\n",
       "    <tr style=\"text-align: right;\">\n",
       "      <th></th>\n",
       "      <th>Max Speed</th>\n",
       "    </tr>\n",
       "    <tr>\n",
       "      <th>Type</th>\n",
       "      <th></th>\n",
       "    </tr>\n",
       "  </thead>\n",
       "  <tbody>\n",
       "    <tr>\n",
       "      <th>Captive</th>\n",
       "      <td>420.0</td>\n",
       "    </tr>\n",
       "    <tr>\n",
       "      <th>Wild</th>\n",
       "      <td>370.0</td>\n",
       "    </tr>\n",
       "  </tbody>\n",
       "</table>\n",
       "</div>"
      ],
      "text/plain": [
       "         Max Speed\n",
       "Type              \n",
       "Captive      420.0\n",
       "Wild         370.0"
      ]
     },
     "execution_count": 30,
     "metadata": {},
     "output_type": "execute_result"
    }
   ],
   "source": [
    "df.groupby(level=1).sum()"
   ]
  },
  {
   "cell_type": "code",
   "execution_count": 31,
   "id": "dcc5aade-3654-46c4-9b3f-c67e94223a5f",
   "metadata": {},
   "outputs": [
    {
     "data": {
      "text/html": [
       "<div>\n",
       "<style scoped>\n",
       "    .dataframe tbody tr th:only-of-type {\n",
       "        vertical-align: middle;\n",
       "    }\n",
       "\n",
       "    .dataframe tbody tr th {\n",
       "        vertical-align: top;\n",
       "    }\n",
       "\n",
       "    .dataframe thead th {\n",
       "        text-align: right;\n",
       "    }\n",
       "</style>\n",
       "<table border=\"1\" class=\"dataframe\">\n",
       "  <thead>\n",
       "    <tr style=\"text-align: right;\">\n",
       "      <th></th>\n",
       "      <th>Max Speed</th>\n",
       "    </tr>\n",
       "    <tr>\n",
       "      <th>Type</th>\n",
       "      <th></th>\n",
       "    </tr>\n",
       "  </thead>\n",
       "  <tbody>\n",
       "    <tr>\n",
       "      <th>Captive</th>\n",
       "      <td>210.0</td>\n",
       "    </tr>\n",
       "    <tr>\n",
       "      <th>Wild</th>\n",
       "      <td>185.0</td>\n",
       "    </tr>\n",
       "  </tbody>\n",
       "</table>\n",
       "</div>"
      ],
      "text/plain": [
       "         Max Speed\n",
       "Type              \n",
       "Captive      210.0\n",
       "Wild         185.0"
      ]
     },
     "execution_count": 31,
     "metadata": {},
     "output_type": "execute_result"
    }
   ],
   "source": [
    "df.groupby(level=\"Type\").mean()"
   ]
  },
  {
   "cell_type": "code",
   "execution_count": 21,
   "id": "22a5f29c-d05c-4010-ba12-9d0dbd2fa24f",
   "metadata": {},
   "outputs": [
    {
     "data": {
      "text/html": [
       "<div>\n",
       "<style scoped>\n",
       "    .dataframe tbody tr th:only-of-type {\n",
       "        vertical-align: middle;\n",
       "    }\n",
       "\n",
       "    .dataframe tbody tr th {\n",
       "        vertical-align: top;\n",
       "    }\n",
       "\n",
       "    .dataframe thead th {\n",
       "        text-align: right;\n",
       "    }\n",
       "</style>\n",
       "<table border=\"1\" class=\"dataframe\">\n",
       "  <thead>\n",
       "    <tr style=\"text-align: right;\">\n",
       "      <th></th>\n",
       "      <th>Max Speed</th>\n",
       "    </tr>\n",
       "    <tr>\n",
       "      <th>Type</th>\n",
       "      <th></th>\n",
       "    </tr>\n",
       "  </thead>\n",
       "  <tbody>\n",
       "    <tr>\n",
       "      <th>Captive</th>\n",
       "      <td>210.0</td>\n",
       "    </tr>\n",
       "    <tr>\n",
       "      <th>Wild</th>\n",
       "      <td>185.0</td>\n",
       "    </tr>\n",
       "  </tbody>\n",
       "</table>\n",
       "</div>"
      ],
      "text/plain": [
       "         Max Speed\n",
       "Type              \n",
       "Captive      210.0\n",
       "Wild         185.0"
      ]
     },
     "execution_count": 21,
     "metadata": {},
     "output_type": "execute_result"
    }
   ],
   "source": [
    "df.groupby(level=1).mean()"
   ]
  },
  {
   "cell_type": "code",
   "execution_count": 22,
   "id": "d17f0f2c-9bfb-4716-8900-495bff8bfd63",
   "metadata": {},
   "outputs": [
    {
     "data": {
      "text/html": [
       "<div>\n",
       "<style scoped>\n",
       "    .dataframe tbody tr th:only-of-type {\n",
       "        vertical-align: middle;\n",
       "    }\n",
       "\n",
       "    .dataframe tbody tr th {\n",
       "        vertical-align: top;\n",
       "    }\n",
       "\n",
       "    .dataframe thead th {\n",
       "        text-align: right;\n",
       "    }\n",
       "</style>\n",
       "<table border=\"1\" class=\"dataframe\">\n",
       "  <thead>\n",
       "    <tr style=\"text-align: right;\">\n",
       "      <th></th>\n",
       "      <th>a</th>\n",
       "      <th>b</th>\n",
       "      <th>c</th>\n",
       "    </tr>\n",
       "  </thead>\n",
       "  <tbody>\n",
       "    <tr>\n",
       "      <th>0</th>\n",
       "      <td>1</td>\n",
       "      <td>2.0</td>\n",
       "      <td>3</td>\n",
       "    </tr>\n",
       "    <tr>\n",
       "      <th>1</th>\n",
       "      <td>1</td>\n",
       "      <td>NaN</td>\n",
       "      <td>4</td>\n",
       "    </tr>\n",
       "    <tr>\n",
       "      <th>2</th>\n",
       "      <td>2</td>\n",
       "      <td>1.0</td>\n",
       "      <td>3</td>\n",
       "    </tr>\n",
       "    <tr>\n",
       "      <th>3</th>\n",
       "      <td>1</td>\n",
       "      <td>2.0</td>\n",
       "      <td>2</td>\n",
       "    </tr>\n",
       "  </tbody>\n",
       "</table>\n",
       "</div>"
      ],
      "text/plain": [
       "   a    b  c\n",
       "0  1  2.0  3\n",
       "1  1  NaN  4\n",
       "2  2  1.0  3\n",
       "3  1  2.0  2"
      ]
     },
     "execution_count": 22,
     "metadata": {},
     "output_type": "execute_result"
    }
   ],
   "source": [
    "l = [[1, 2, 3], [1, None, 4], [2, 1, 3], [1, 2, 2]]\n",
    "df = pd.DataFrame(l, columns=[\"a\", \"b\", \"c\"])\n",
    "df"
   ]
  },
  {
   "cell_type": "code",
   "execution_count": 23,
   "id": "2cdf093c-5cff-4b1e-ad2d-b79268b584ca",
   "metadata": {},
   "outputs": [
    {
     "data": {
      "text/html": [
       "<div>\n",
       "<style scoped>\n",
       "    .dataframe tbody tr th:only-of-type {\n",
       "        vertical-align: middle;\n",
       "    }\n",
       "\n",
       "    .dataframe tbody tr th {\n",
       "        vertical-align: top;\n",
       "    }\n",
       "\n",
       "    .dataframe thead th {\n",
       "        text-align: right;\n",
       "    }\n",
       "</style>\n",
       "<table border=\"1\" class=\"dataframe\">\n",
       "  <thead>\n",
       "    <tr style=\"text-align: right;\">\n",
       "      <th></th>\n",
       "      <th>a</th>\n",
       "      <th>c</th>\n",
       "    </tr>\n",
       "    <tr>\n",
       "      <th>b</th>\n",
       "      <th></th>\n",
       "      <th></th>\n",
       "    </tr>\n",
       "  </thead>\n",
       "  <tbody>\n",
       "    <tr>\n",
       "      <th>1.0</th>\n",
       "      <td>2</td>\n",
       "      <td>3</td>\n",
       "    </tr>\n",
       "    <tr>\n",
       "      <th>2.0</th>\n",
       "      <td>2</td>\n",
       "      <td>5</td>\n",
       "    </tr>\n",
       "  </tbody>\n",
       "</table>\n",
       "</div>"
      ],
      "text/plain": [
       "     a  c\n",
       "b        \n",
       "1.0  2  3\n",
       "2.0  2  5"
      ]
     },
     "execution_count": 23,
     "metadata": {},
     "output_type": "execute_result"
    }
   ],
   "source": [
    "df.groupby(by=[\"b\"]).sum()"
   ]
  },
  {
   "cell_type": "code",
   "execution_count": 24,
   "id": "56dcd824-9a16-4d63-bb79-01aac5514d73",
   "metadata": {},
   "outputs": [
    {
     "data": {
      "text/html": [
       "<div>\n",
       "<style scoped>\n",
       "    .dataframe tbody tr th:only-of-type {\n",
       "        vertical-align: middle;\n",
       "    }\n",
       "\n",
       "    .dataframe tbody tr th {\n",
       "        vertical-align: top;\n",
       "    }\n",
       "\n",
       "    .dataframe thead th {\n",
       "        text-align: right;\n",
       "    }\n",
       "</style>\n",
       "<table border=\"1\" class=\"dataframe\">\n",
       "  <thead>\n",
       "    <tr style=\"text-align: right;\">\n",
       "      <th></th>\n",
       "      <th>a</th>\n",
       "      <th>c</th>\n",
       "    </tr>\n",
       "    <tr>\n",
       "      <th>b</th>\n",
       "      <th></th>\n",
       "      <th></th>\n",
       "    </tr>\n",
       "  </thead>\n",
       "  <tbody>\n",
       "    <tr>\n",
       "      <th>1.0</th>\n",
       "      <td>2</td>\n",
       "      <td>3</td>\n",
       "    </tr>\n",
       "    <tr>\n",
       "      <th>2.0</th>\n",
       "      <td>2</td>\n",
       "      <td>5</td>\n",
       "    </tr>\n",
       "    <tr>\n",
       "      <th>NaN</th>\n",
       "      <td>1</td>\n",
       "      <td>4</td>\n",
       "    </tr>\n",
       "  </tbody>\n",
       "</table>\n",
       "</div>"
      ],
      "text/plain": [
       "     a  c\n",
       "b        \n",
       "1.0  2  3\n",
       "2.0  2  5\n",
       "NaN  1  4"
      ]
     },
     "execution_count": 24,
     "metadata": {},
     "output_type": "execute_result"
    }
   ],
   "source": [
    "df.groupby(by=[\"b\"], dropna=False).sum()"
   ]
  },
  {
   "cell_type": "code",
   "execution_count": 55,
   "id": "9168a380-703b-425c-a6bb-6e81f28a7aaa",
   "metadata": {},
   "outputs": [
    {
     "data": {
      "text/plain": [
       "[('Africa',\n",
       "  2017       Algeria\n",
       "  2018       Algeria\n",
       "  2019       Algeria\n",
       "  2020       Algeria\n",
       "  2021       Algeria\n",
       "              ...   \n",
       "  149479    Zimbabwe\n",
       "  149480    Zimbabwe\n",
       "  149481    Zimbabwe\n",
       "  149482    Zimbabwe\n",
       "  149483    Zimbabwe\n",
       "  Name: location, Length: 35458, dtype: object),\n",
       " ('Asia',\n",
       "  0         Afghanistan\n",
       "  1         Afghanistan\n",
       "  2         Afghanistan\n",
       "  3         Afghanistan\n",
       "  4         Afghanistan\n",
       "               ...     \n",
       "  148189          Yemen\n",
       "  148190          Yemen\n",
       "  148191          Yemen\n",
       "  148192          Yemen\n",
       "  148193          Yemen\n",
       "  Name: location, Length: 32718, dtype: object),\n",
       " ('Europe',\n",
       "  1349      Albania\n",
       "  1350      Albania\n",
       "  1351      Albania\n",
       "  1352      Albania\n",
       "  1353      Albania\n",
       "             ...   \n",
       "  145082    Vatican\n",
       "  145083    Vatican\n",
       "  145084    Vatican\n",
       "  145085    Vatican\n",
       "  145086    Vatican\n",
       "  Name: location, Length: 33421, dtype: object),\n",
       " ('North America',\n",
       "  3991           Anguilla\n",
       "  3992           Anguilla\n",
       "  3993           Anguilla\n",
       "  3994           Anguilla\n",
       "  3995           Anguilla\n",
       "                ...      \n",
       "  142013    United States\n",
       "  142014    United States\n",
       "  142015    United States\n",
       "  142016    United States\n",
       "  142017    United States\n",
       "  Name: location, Length: 22410, dtype: object),\n",
       " ('Oceania',\n",
       "  8017              Australia\n",
       "  8018              Australia\n",
       "  8019              Australia\n",
       "  8020              Australia\n",
       "  8021              Australia\n",
       "                  ...        \n",
       "  146864    Wallis and Futuna\n",
       "  146865    Wallis and Futuna\n",
       "  146866    Wallis and Futuna\n",
       "  146867    Wallis and Futuna\n",
       "  146868    Wallis and Futuna\n",
       "  Name: location, Length: 7811, dtype: object),\n",
       " ('South America',\n",
       "  5278      Argentina\n",
       "  5279      Argentina\n",
       "  5280      Argentina\n",
       "  5281      Argentina\n",
       "  5282      Argentina\n",
       "              ...    \n",
       "  145732    Venezuela\n",
       "  145733    Venezuela\n",
       "  145734    Venezuela\n",
       "  145735    Venezuela\n",
       "  145736    Venezuela\n",
       "  Name: location, Length: 8646, dtype: object)]"
      ]
     },
     "execution_count": 55,
     "metadata": {},
     "output_type": "execute_result"
    }
   ],
   "source": [
    "# Doing Task 13: Affichez les pays, classés par continents\n",
    "data = pd.read_csv('Covid-19_data_version_2.csv')\n",
    "group_countries = list(data.groupby(by='continent')['location'])\n",
    "group_countries"
   ]
  },
  {
   "cell_type": "code",
   "execution_count": 68,
   "id": "bb385fcd-eea8-460e-b956-a4decf8636f6",
   "metadata": {},
   "outputs": [
    {
     "data": {
      "text/plain": [
       "[array(['Algeria', 'Angola', 'Benin', 'Botswana', 'Burkina Faso',\n",
       "        'Burundi', 'Cameroon', 'Cape Verde', 'Central African Republic',\n",
       "        'Chad', 'Comoros', 'Congo', \"Cote d'Ivoire\",\n",
       "        'Democratic Republic of Congo', 'Djibouti', 'Egypt',\n",
       "        'Equatorial Guinea', 'Eritrea', 'Eswatini', 'Ethiopia', 'Gabon',\n",
       "        'Gambia', 'Ghana', 'Guinea', 'Guinea-Bissau', 'Kenya', 'Lesotho',\n",
       "        'Liberia', 'Libya', 'Madagascar', 'Malawi', 'Mali', 'Mauritania',\n",
       "        'Mauritius', 'Morocco', 'Mozambique', 'Namibia', 'Niger',\n",
       "        'Nigeria', 'Rwanda', 'Saint Helena', 'Sao Tome and Principe',\n",
       "        'Senegal', 'Seychelles', 'Sierra Leone', 'Somalia', 'South Africa',\n",
       "        'South Sudan', 'Sudan', 'Tanzania', 'Togo', 'Tunisia', 'Uganda',\n",
       "        'Zambia', 'Zimbabwe'], dtype=object),\n",
       " array(['Afghanistan', 'Armenia', 'Azerbaijan', 'Bahrain', 'Bangladesh',\n",
       "        'Bhutan', 'Brunei', 'Cambodia', 'China', 'Georgia', 'Hong Kong',\n",
       "        'India', 'Indonesia', 'Iran', 'Iraq', 'Israel', 'Japan', 'Jordan',\n",
       "        'Kazakhstan', 'Kuwait', 'Kyrgyzstan', 'Laos', 'Lebanon', 'Macao',\n",
       "        'Malaysia', 'Maldives', 'Mongolia', 'Myanmar', 'Nepal',\n",
       "        'Northern Cyprus', 'Oman', 'Pakistan', 'Palestine', 'Philippines',\n",
       "        'Qatar', 'Saudi Arabia', 'Singapore', 'South Korea', 'Sri Lanka',\n",
       "        'Syria', 'Taiwan', 'Tajikistan', 'Thailand', 'Timor', 'Turkey',\n",
       "        'Turkmenistan', 'United Arab Emirates', 'Uzbekistan', 'Vietnam',\n",
       "        'Yemen'], dtype=object),\n",
       " array(['Albania', 'Andorra', 'Austria', 'Belarus', 'Belgium',\n",
       "        'Bosnia and Herzegovina', 'Bulgaria', 'Croatia', 'Cyprus',\n",
       "        'Czechia', 'Denmark', 'Estonia', 'Faeroe Islands', 'Finland',\n",
       "        'France', 'Germany', 'Gibraltar', 'Greece', 'Guernsey', 'Hungary',\n",
       "        'Iceland', 'Ireland', 'Isle of Man', 'Italy', 'Jersey', 'Kosovo',\n",
       "        'Latvia', 'Liechtenstein', 'Lithuania', 'Luxembourg', 'Malta',\n",
       "        'Moldova', 'Monaco', 'Montenegro', 'Netherlands',\n",
       "        'North Macedonia', 'Norway', 'Poland', 'Portugal', 'Romania',\n",
       "        'Russia', 'San Marino', 'Serbia', 'Slovakia', 'Slovenia', 'Spain',\n",
       "        'Sweden', 'Switzerland', 'Ukraine', 'United Kingdom', 'Vatican'],\n",
       "       dtype=object),\n",
       " array(['Anguilla', 'Antigua and Barbuda', 'Aruba', 'Bahamas', 'Barbados',\n",
       "        'Belize', 'Bermuda', 'Bonaire Sint Eustatius and Saba',\n",
       "        'British Virgin Islands', 'Canada', 'Cayman Islands', 'Costa Rica',\n",
       "        'Cuba', 'Curacao', 'Dominica', 'Dominican Republic', 'El Salvador',\n",
       "        'Greenland', 'Grenada', 'Guatemala', 'Haiti', 'Honduras',\n",
       "        'Jamaica', 'Mexico', 'Montserrat', 'Nicaragua', 'Panama',\n",
       "        'Saint Kitts and Nevis', 'Saint Lucia',\n",
       "        'Saint Pierre and Miquelon', 'Saint Vincent and the Grenadines',\n",
       "        'Sint Maarten (Dutch part)', 'Trinidad and Tobago',\n",
       "        'Turks and Caicos Islands', 'United States'], dtype=object),\n",
       " array(['Australia', 'Cook Islands', 'Fiji', 'French Polynesia',\n",
       "        'Kiribati', 'Marshall Islands', 'Micronesia (country)', 'Nauru',\n",
       "        'New Caledonia', 'New Zealand', 'Niue', 'Palau',\n",
       "        'Papua New Guinea', 'Pitcairn', 'Samoa', 'Solomon Islands',\n",
       "        'Tokelau', 'Tonga', 'Tuvalu', 'Vanuatu', 'Wallis and Futuna'],\n",
       "       dtype=object),\n",
       " array(['Argentina', 'Bolivia', 'Brazil', 'Chile', 'Colombia', 'Ecuador',\n",
       "        'Falkland Islands', 'Guyana', 'Paraguay', 'Peru', 'Suriname',\n",
       "        'Uruguay', 'Venezuela'], dtype=object)]"
      ]
     },
     "execution_count": 68,
     "metadata": {},
     "output_type": "execute_result"
    }
   ],
   "source": [
    "# doing them unique list\n",
    "group_countries = list(data.groupby('continent')['location'].unique())\n",
    "group_countries"
   ]
  },
  {
   "cell_type": "code",
   "execution_count": 70,
   "id": "5696bfb8-ca3f-4f82-a3a1-ac42e44c6133",
   "metadata": {},
   "outputs": [
    {
     "data": {
      "text/plain": [
       "continent\n",
       "Africa           [Togo, Algeria, Mali, Burundi, Sierra Leone, A...\n",
       "Asia             [China, Timor, Oman, Macao, Indonesia, Kuwait,...\n",
       "Europe           [Liechtenstein, Moldova, Faeroe Islands, Belar...\n",
       "North America    [Dominica, Cuba, Bonaire Sint Eustatius and Sa...\n",
       "Oceania          [French Polynesia, New Caledonia, Fiji, Tokela...\n",
       "South America    [Peru, Suriname, Venezuela, Brazil, Chile, Col...\n",
       "Name: location, dtype: object"
      ]
     },
     "execution_count": 70,
     "metadata": {},
     "output_type": "execute_result"
    }
   ],
   "source": [
    "group_continents = data.groupby(by='continent')['location'].agg(lambda x: list(set(x)))\n",
    "group_continents"
   ]
  },
  {
   "cell_type": "code",
   "execution_count": 97,
   "id": "8e5a4acb-ff32-48cf-b936-c1549718666e",
   "metadata": {},
   "outputs": [
    {
     "data": {
      "text/plain": [
       "location\n",
       "Afghanistan            [39835428.0]\n",
       "Africa               [1373486472.0]\n",
       "Albania                 [2872934.0]\n",
       "Algeria                [44616626.0]\n",
       "Andorra                   [77354.0]\n",
       "                          ...      \n",
       "Wallis and Futuna         [11094.0]\n",
       "World                [7874965730.0]\n",
       "Yemen                  [30490639.0]\n",
       "Zambia                 [18920657.0]\n",
       "Zimbabwe               [15092171.0]\n",
       "Name: population, Length: 238, dtype: object"
      ]
     },
     "execution_count": 97,
     "metadata": {},
     "output_type": "execute_result"
    }
   ],
   "source": [
    "# Task 14: Affichez la liste des pays avec leurs populations respectives (vous pourrez prendre la date la plus récente par exemple)\n",
    "data.columns\n",
    "population = data.groupby('location')['population'].agg(lambda x: list(set(x)))\n",
    "population"
   ]
  },
  {
   "cell_type": "code",
   "execution_count": 104,
   "id": "9a681120-86e4-47b8-87fc-e8559637e0fc",
   "metadata": {},
   "outputs": [
    {
     "data": {
      "text/plain": [
       "'World'"
      ]
     },
     "execution_count": 104,
     "metadata": {},
     "output_type": "execute_result"
    }
   ],
   "source": [
    "# Task 15: Quel est le pays le plus peuplé, le moins peuplé ? Quel est le pays avec la plus forte densité de population ?\n",
    "population.idxmax()"
   ]
  },
  {
   "cell_type": "code",
   "execution_count": 105,
   "id": "fdf16648-5957-4c2a-862b-f017b1193bca",
   "metadata": {},
   "outputs": [
    {
     "data": {
      "text/plain": [
       "'Pitcairn'"
      ]
     },
     "execution_count": 105,
     "metadata": {},
     "output_type": "execute_result"
    }
   ],
   "source": [
    "population.idxmin()"
   ]
  },
  {
   "cell_type": "code",
   "execution_count": 110,
   "id": "4d0a0f5b-1444-4e3f-81c4-fc27ab0739e8",
   "metadata": {},
   "outputs": [
    {
     "data": {
      "text/plain": [
       "'Macao'"
      ]
     },
     "execution_count": 110,
     "metadata": {},
     "output_type": "execute_result"
    }
   ],
   "source": [
    "density = data.groupby('location')['population_density'].agg(lambda x: list(set(x)))\n",
    "density.idxmax()"
   ]
  },
  {
   "cell_type": "code",
   "execution_count": 138,
   "id": "62439c80-994c-4c13-84e0-2087c00238b1",
   "metadata": {},
   "outputs": [
    {
     "data": {
      "text/plain": [
       "location\n",
       "World                  [7874965730.0]\n",
       "Asia                   [4678444992.0]\n",
       "Lower middle income    [3330652550.0]\n",
       "China                  [1444216102.0]\n",
       "India                  [1393409033.0]\n",
       "                            ...      \n",
       "Falkland Islands             [3528.0]\n",
       "Niue                         [1614.0]\n",
       "Tokelau                      [1368.0]\n",
       "Vatican                       [812.0]\n",
       "Pitcairn                       [47.0]\n",
       "Name: population, Length: 238, dtype: object"
      ]
     },
     "execution_count": 138,
     "metadata": {},
     "output_type": "execute_result"
    }
   ],
   "source": [
    "# Task 16: Affichez les 10 premiers pays les plus peuplés, respectivement les 10 les moins peuplés\n",
    "population.sort_values(ascending=False)"
   ]
  },
  {
   "cell_type": "code",
   "execution_count": 139,
   "id": "509c2e74-917e-4c7e-b919-024e4b7a5d76",
   "metadata": {},
   "outputs": [
    {
     "data": {
      "text/plain": [
       "location\n",
       "World                                                     [7874965730.0]\n",
       "Asia                                                      [4678444992.0]\n",
       "Lower middle income                                       [3330652550.0]\n",
       "China                                                     [1444216102.0]\n",
       "India                                                     [1393409033.0]\n",
       "Africa                                                    [1373486472.0]\n",
       "High income                                               [1214930230.0]\n",
       "Europe                                                     [748962983.0]\n",
       "Low income                                                 [665149040.0]\n",
       "Northern Cyprus        [nan, nan, nan, nan, nan, nan, nan, nan, nan, ...\n",
       "Name: population, dtype: object"
      ]
     },
     "execution_count": 139,
     "metadata": {},
     "output_type": "execute_result"
    }
   ],
   "source": [
    "population.sort_values(ascending=False).head(10) # les 10 premiers pays les plus peuplés"
   ]
  },
  {
   "cell_type": "code",
   "execution_count": 140,
   "id": "12bf942f-45d2-4f45-bc3d-8eb74733641e",
   "metadata": {},
   "outputs": [
    {
     "data": {
      "text/plain": [
       "location\n",
       "Wallis and Futuna            [11094.0]\n",
       "Nauru                        [10873.0]\n",
       "Saint Helena                  [6095.0]\n",
       "Saint Pierre and Miquelon     [5771.0]\n",
       "Montserrat                    [4981.0]\n",
       "Falkland Islands              [3528.0]\n",
       "Niue                          [1614.0]\n",
       "Tokelau                       [1368.0]\n",
       "Vatican                        [812.0]\n",
       "Pitcairn                        [47.0]\n",
       "Name: population, dtype: object"
      ]
     },
     "execution_count": 140,
     "metadata": {},
     "output_type": "execute_result"
    }
   ],
   "source": [
    "population.sort_values(ascending=False).tail(10) # les 10 les moins peuplés"
   ]
  },
  {
   "cell_type": "code",
   "execution_count": 160,
   "id": "6536fe4a-f384-4801-82a9-eadf9e0eb7bf",
   "metadata": {},
   "outputs": [
    {
     "data": {
      "text/plain": [
       "location\n",
       "Japan        [48.2]\n",
       "Italy        [47.9]\n",
       "Germany      [46.6]\n",
       "Portugal     [46.2]\n",
       "Spain        [45.5]\n",
       "Greece       [45.3]\n",
       "Hong Kong    [44.8]\n",
       "Bulgaria     [44.7]\n",
       "Slovenia     [44.5]\n",
       "Austria      [44.4]\n",
       "Name: median_age, dtype: object"
      ]
     },
     "execution_count": 160,
     "metadata": {},
     "output_type": "execute_result"
    }
   ],
   "source": [
    "# Task 17: Donnez les 10 pays ayant la plus haute espérance de vie\n",
    "medianAge = data.groupby('location')['median_age'].agg(lambda x: list(set(x)))\n",
    "medianAge.sort_values(ascending=False).head(10)"
   ]
  },
  {
   "cell_type": "code",
   "execution_count": 206,
   "id": "03f9ec20-67cb-4893-a685-fe7e53a0d164",
   "metadata": {},
   "outputs": [
    {
     "data": {
      "text/plain": [
       "continent\n",
       "Africa           [44616626.0, 33933611.0, 12451031.0, 2397240.0...\n",
       "Asia             [39835428.0, 2968128.0, 10223344.0, 1748295.0,...\n",
       "Europe           [2872934.0, 77354.0, 9043072.0, 9442867.0, 116...\n",
       "North America    [15125.0, 98728.0, 107195.0, 396914.0, 287708....\n",
       "Oceania          [25788217.0, 17572.0, 902899.0, 282534.0, 1213...\n",
       "South America    [45605823.0, 11832936.0, 213993441.0, 19212362...\n",
       "Name: population, dtype: object"
      ]
     },
     "execution_count": 206,
     "metadata": {},
     "output_type": "execute_result"
    }
   ],
   "source": [
    "# Task 18: Calculez la population de chacun des continents (explorez la fonction pandas groupby)\n",
    "continent_population = data.groupby('continent')['population'].unique()\n",
    "continent_population"
   ]
  },
  {
   "cell_type": "code",
   "execution_count": 215,
   "id": "8631af11-0f8e-4d6f-adfa-3a6eb612f084",
   "metadata": {},
   "outputs": [
    {
     "data": {
      "text/plain": [
       "continent\n",
       "Africa           9.009834e+11\n",
       "Asia             3.201471e+12\n",
       "Europe           5.138065e+11\n",
       "North America    4.145691e+11\n",
       "Oceania          2.892533e+10\n",
       "South America    2.925902e+11\n",
       "Name: population, dtype: float64"
      ]
     },
     "execution_count": 215,
     "metadata": {},
     "output_type": "execute_result"
    }
   ],
   "source": [
    "continent_population = data.groupby('continent')['population'].sum()\n",
    "continent_population"
   ]
  },
  {
   "cell_type": "code",
   "execution_count": 210,
   "id": "c06a1f3e-8127-412e-b820-b5c48d65fff0",
   "metadata": {},
   "outputs": [
    {
     "data": {
      "text/plain": [
       "continent\n",
       "Africa           1.371693e+09\n",
       "Asia             4.652616e+09\n",
       "Europe           7.508001e+08\n",
       "North America    5.928348e+08\n",
       "Oceania          4.319876e+07\n",
       "South America    4.339537e+08\n",
       "Name: population, dtype: float64"
      ]
     },
     "execution_count": 210,
     "metadata": {},
     "output_type": "execute_result"
    }
   ],
   "source": [
    "continent_population = data.groupby('continent')['population'].apply(lambda x: np.nansum(list(set(x))))\n",
    "continent_population"
   ]
  },
  {
   "cell_type": "code",
   "execution_count": null,
   "id": "fb1d86c5-ce54-4e0e-a7ad-546b2a412a53",
   "metadata": {},
   "outputs": [],
   "source": [
    "# Task 19: Avec matplotlib, produisez un diagramme en bâton affichant les populations de chacun des continents\n",
    "# Tous les diagrammes devront comporter une légende, un titre et les légendes des axes\n"
   ]
  },
  {
   "cell_type": "code",
   "execution_count": 4,
   "id": "99337810-b272-4293-9af3-f65892b173fb",
   "metadata": {},
   "outputs": [
    {
     "data": {
      "text/plain": [
       "{'Africa': 900983391741.0,\n",
       " 'Asia': 3201471190367.0,\n",
       " 'Europe': 513806502941.0,\n",
       " 'North America': 414569112826.0,\n",
       " 'Oceania': 28925326440.0,\n",
       " 'South America': 292590199568.0}"
      ]
     },
     "execution_count": 4,
     "metadata": {},
     "output_type": "execute_result"
    }
   ],
   "source": [
    "# doing groupby broken list into dictionary\n",
    "continent_population_dict = data.groupby('continent')['population'].sum().to_dict()\n",
    "continent_population_dict"
   ]
  },
  {
   "cell_type": "code",
   "execution_count": 5,
   "id": "3c0d7066-5d9f-470d-9add-12857166be6c",
   "metadata": {},
   "outputs": [
    {
     "data": {
      "text/plain": [
       "dict_keys(['Africa', 'Asia', 'Europe', 'North America', 'Oceania', 'South America'])"
      ]
     },
     "execution_count": 5,
     "metadata": {},
     "output_type": "execute_result"
    }
   ],
   "source": [
    "cont_names = continent_population_dict.keys()\n",
    "cont_names"
   ]
  },
  {
   "cell_type": "code",
   "execution_count": 6,
   "id": "64c111bb-5357-43f7-9907-501392a37b1f",
   "metadata": {},
   "outputs": [
    {
     "data": {
      "text/plain": [
       "dict_values([900983391741.0, 3201471190367.0, 513806502941.0, 414569112826.0, 28925326440.0, 292590199568.0])"
      ]
     },
     "execution_count": 6,
     "metadata": {},
     "output_type": "execute_result"
    }
   ],
   "source": [
    "cont_values = continent_population_dict.values()\n",
    "cont_values"
   ]
  },
  {
   "cell_type": "code",
   "execution_count": 7,
   "id": "cf60f372-f951-40a4-858b-2eefde4a27ae",
   "metadata": {},
   "outputs": [
    {
     "data": {
      "text/plain": [
       "Text(0, 0.5, 'Population')"
      ]
     },
     "execution_count": 7,
     "metadata": {},
     "output_type": "execute_result"
    },
    {
     "data": {
      "image/png": "[encoded data removed]",
      "text/plain": [
       "<Figure size 640x480 with 1 Axes>"
      ]
     },
     "metadata": {},
     "output_type": "display_data"
    }
   ],
   "source": [
    "plt.bar(cont_names, cont_values)\n",
    "plt.title('Les populations de chacun des continents')\n",
    "plt.xlabel('Continents')\n",
    "plt.ylabel('Population')\n",
    "# plt.show()"
   ]
  },
  {
   "cell_type": "code",
   "execution_count": 8,
   "id": "24b4efa7-ba43-4972-b11b-9b0724068ac7",
   "metadata": {},
   "outputs": [
    {
     "data": {
      "text/plain": [
       "{'Africa': 2438122365.0,\n",
       " 'Asia': 21117158086.0,\n",
       " 'Europe': 19639937493.0,\n",
       " 'North America': 17181301314.0,\n",
       " 'Oceania': 58202057.0,\n",
       " 'South America': 12043171655.0}"
      ]
     },
     "execution_count": 8,
     "metadata": {},
     "output_type": "execute_result"
    }
   ],
   "source": [
    "# Task 20: Complétez votre diagramme en bâton en y faisant figurer le nombre total de cas,\n",
    "# ainsi que le nombre total de morts (à la date la plus récente des données)\n",
    "continent_total_cases = data.groupby('continent')['total_cases'].sum().to_dict()\n",
    "continent_total_cases"
   ]
  },
  {
   "cell_type": "code",
   "execution_count": 9,
   "id": "09ccdaf5-80d2-44e8-85a4-4930d70471f9",
   "metadata": {},
   "outputs": [
    {
     "data": {
      "text/plain": [
       "{'Africa': 62210510.0,\n",
       " 'Asia': 317806427.0,\n",
       " 'Europe': 446349300.0,\n",
       " 'North America': 391301067.0,\n",
       " 'Oceania': 853457.0,\n",
       " 'South America': 379318909.0}"
      ]
     },
     "execution_count": 9,
     "metadata": {},
     "output_type": "execute_result"
    }
   ],
   "source": [
    "continent_total_death = data.groupby('continent')['total_deaths'].sum().to_dict()\n",
    "continent_total_death"
   ]
  },
  {
   "cell_type": "code",
   "execution_count": 10,
   "id": "dc8a01b7-46ff-4a18-a928-c23d2e6cff6d",
   "metadata": {},
   "outputs": [],
   "source": [
    "cont_cases_keys = continent_total_cases.keys()\n",
    "cont_cases_value = continent_total_cases.values()\n",
    "\n",
    "cont_deaths_keys = continent_total_death.keys()\n",
    "cont_deaths_value = continent_total_death.values()"
   ]
  },
  {
   "cell_type": "code",
   "execution_count": null,
   "id": "86660884-50ad-41f0-9132-8f42df992aba",
   "metadata": {},
   "outputs": [],
   "source": [
    "# NOT FINISHED"
   ]
  },
  {
   "cell_type": "code",
   "execution_count": 20,
   "id": "cfdfee1b-ad04-4392-bc8a-300df97c053b",
   "metadata": {},
   "outputs": [
    {
     "data": {
      "text/plain": [
       "Text(0, 0.5, 'Population')"
      ]
     },
     "execution_count": 20,
     "metadata": {},
     "output_type": "execute_result"
    },
    {
     "data": {
      "image/png": "[encoded data removed]",
      "text/plain": [
       "<Figure size 640x480 with 1 Axes>"
      ]
     },
     "metadata": {},
     "output_type": "display_data"
    }
   ],
   "source": [
    "barWidth = 0.5\n",
    "\n",
    "categories = [cont_names]\n",
    "x = np.arange(len(categories))\n",
    "\n",
    "fig, ax = plt.subplots()\n",
    "ax.bar(x - barWidth/2, cont_values, barWidth, label=\"population\", color=\"red\")\n",
    "ax.bar(x + barWidth/2, cont_cases_value, barWidth, label=\"cases\", color=\"blue\")\n",
    "ax.bar(x + barWidth/2, cont_deaths_value, barWidth, label=\"deaths\", color=\"green\")\n",
    "\n",
    "plt.legend()\n",
    "plt.title('Les populations de chacun des continents')\n",
    "plt.xlabel('Continents')\n",
    "plt.ylabel('Population')"
   ]
  },
  {
   "cell_type": "code",
   "execution_count": 21,
   "id": "94ffce03-29e7-4722-8ec7-c776daef0767",
   "metadata": {},
   "outputs": [
    {
     "data": {
      "image/png": "[encoded data removed]",
      "text/plain": [
       "<Figure size 640x480 with 1 Axes>"
      ]
     },
     "metadata": {},
     "output_type": "display_data"
    }
   ],
   "source": [
    "\n",
    "import numpy as np\n",
    "import matplotlib.pyplot as plt\n",
    "\n",
    "# Data\n",
    "categories = [\"Sans AVC\", \"Avec AVC\"]\n",
    "bmi_means = [27, 30]  # BMI for Sans AVC and Avec AVC\n",
    "glucose_means = [100, 130]  # Glucose for Sans AVC and Avec AVC\n",
    "\n",
    "x = np.arange(len(categories))  # Positions for categories\n",
    "width = 0.3  # Width of bars\n",
    "\n",
    "# Create bar chart with side-by-side bars\n",
    "fig, ax = plt.subplots()\n",
    "ax.bar(x - width/2, bmi_means, width, label=\"BMI moyen\", color=\"blue\", edgecolor=\"black\")\n",
    "ax.bar(x + width/2, glucose_means, width, label=\"Glucose moyen\", color=\"orange\", edgecolor=\"black\")\n",
    "\n",
    "# Labels & Title\n",
    "ax.set_xlabel(\"AVC (0 = Non, 1 = Oui)\")\n",
    "ax.set_ylabel(\"Valeur moyenne\")\n",
    "ax.set_xticks(x)\n",
    "ax.set_xticklabels(categories)\n",
    "ax.legend()\n",
    "\n",
    "# Show plot\n",
    "plt.show()\n"
   ]
  },
  {
   "cell_type": "code",
   "execution_count": null,
   "id": "a2f90cd4-4fc6-4fc4-ad64-a270abaa104e",
   "metadata": {},
   "outputs": [],
   "source": []
  },
  {
   "cell_type": "code",
   "execution_count": null,
   "id": "506c4d33-dbac-454e-a03f-ef9c749d1b54",
   "metadata": {},
   "outputs": [],
   "source": []
  },
  {
   "cell_type": "code",
   "execution_count": null,
   "id": "9a706dce-ce57-491c-80f7-1b1cf5c887dc",
   "metadata": {},
   "outputs": [],
   "source": []
  },
  {
   "cell_type": "code",
   "execution_count": null,
   "id": "326dbc6e-9861-4282-adac-d5536b09f484",
   "metadata": {},
   "outputs": [],
   "source": []
  },
  {
   "cell_type": "code",
   "execution_count": null,
   "id": "edf2a0b3-6a1c-44bf-b913-60944c575e3d",
   "metadata": {},
   "outputs": [],
   "source": []
  },
  {
   "cell_type": "code",
   "execution_count": null,
   "id": "29459924-9988-4adc-b2c3-91df657c9d26",
   "metadata": {},
   "outputs": [],
   "source": []
  },
  {
   "cell_type": "code",
   "execution_count": null,
   "id": "17ef8407-ff49-403e-bef0-9259cd51aa3b",
   "metadata": {},
   "outputs": [],
   "source": []
  }
 ],
 "metadata": {
  "kernelspec": {
   "display_name": "Python 3 (ipykernel)",
   "language": "python",
   "name": "python3"
  },
  "language_info": {
   "codemirror_mode": {
    "name": "ipython",
    "version": 3
   },
   "file_extension": ".py",
   "mimetype": "text/x-python",
   "name": "python",
   "nbconvert_exporter": "python",
   "pygments_lexer": "ipython3",
   "version": "3.10.6"
  }
 },
 "nbformat": 4,
 "nbformat_minor": 5
}
